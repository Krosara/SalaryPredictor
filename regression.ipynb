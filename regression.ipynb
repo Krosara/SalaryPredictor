{
 "cells": [
  {
   "cell_type": "markdown",
   "metadata": {},
   "source": [
    "# Linear regression on salary survey in IT field in Bulgaria"
   ]
  },
  {
   "cell_type": "markdown",
   "metadata": {},
   "source": [
    "## Import Libraries"
   ]
  },
  {
   "cell_type": "code",
   "execution_count": 1,
   "metadata": {},
   "outputs": [
    {
     "name": "stdout",
     "output_type": "stream",
     "text": [
      "Pandas:  2.1.1\n",
      "Numpy:  1.24.3\n",
      "Seaborn:  0.12.2\n",
      "Matplotlib:  3.8.0\n",
      "Plotly:  5.9.0\n"
     ]
    }
   ],
   "source": [
    "import pandas as pd\n",
    "import numpy as np\n",
    "import seaborn as sns\n",
    "import matplotlib.pyplot as plt\n",
    "import plotly\n",
    "import plotly.graph_objects as go\n",
    "\n",
    "print(\"Pandas: \", pd.__version__)                       # 2.0.3\n",
    "print(\"Numpy: \", np.__version__)                        # 1.24.3\n",
    "print(\"Seaborn: \", sns.__version__)                     # 0.12.2\n",
    "print(\"Matplotlib: \", plt.matplotlib.__version__)       # 3.7.2\n",
    "print(\"Plotly: \", plotly.__version__)                   # 5.9.0"
   ]
  },
  {
   "cell_type": "markdown",
   "metadata": {},
   "source": [
    "## Import Data"
   ]
  },
  {
   "cell_type": "markdown",
   "metadata": {},
   "source": [
    "The dataset was collected via a survey conducted by Dev.BG on the salaries of the IT field in Bulgaria."
   ]
  },
  {
   "cell_type": "code",
   "execution_count": 2,
   "metadata": {},
   "outputs": [
    {
     "data": {
      "text/html": [
       "<div>\n",
       "<style scoped>\n",
       "    .dataframe tbody tr th:only-of-type {\n",
       "        vertical-align: middle;\n",
       "    }\n",
       "\n",
       "    .dataframe tbody tr th {\n",
       "        vertical-align: top;\n",
       "    }\n",
       "\n",
       "    .dataframe thead th {\n",
       "        text-align: right;\n",
       "    }\n",
       "</style>\n",
       "<table border=\"1\" class=\"dataframe\">\n",
       "  <thead>\n",
       "    <tr style=\"text-align: right;\">\n",
       "      <th></th>\n",
       "      <th>Timestamp</th>\n",
       "      <th>Стартова заплата на текущата позиция (месечна, нето, в лева)</th>\n",
       "      <th>Текуща заплата (месечна, нето, в лева)</th>\n",
       "      <th>Колко години стаж имате на текущата позиция?</th>\n",
       "      <th>Колко години стаж имате?</th>\n",
       "      <th>За колко човека отговаряте?</th>\n",
       "      <th>В коя област работите?</th>\n",
       "      <th>Какво е точното название на позицията Ви?</th>\n",
       "      <th>Град</th>\n",
       "      <th>Заплаща ли се Overtime</th>\n",
       "      <th>...</th>\n",
       "      <th>Фирмата изисква ли отчитане на часове за работния ден</th>\n",
       "      <th>Фирмата предлага ли работно време по твое желание (изключвайки срещите)? \"Имаш да свършиш това за днес, пък кога го вършиш - е твоя работа</th>\n",
       "      <th>Получавате ли бонуси на база добре свършена работа</th>\n",
       "      <th>Тип на компанията</th>\n",
       "      <th>Има ли и какви стокови опции или подобни</th>\n",
       "      <th>Брой дни платен отпуск</th>\n",
       "      <th>Получавате ли допълнително здравно осигуряване</th>\n",
       "      <th>Получавате ли карта/бюджет за спорт</th>\n",
       "      <th>Получавате ли бюджет за допълнителни обучения, курсове и сертификати</th>\n",
       "      <th>Бележки</th>\n",
       "    </tr>\n",
       "  </thead>\n",
       "  <tbody>\n",
       "    <tr>\n",
       "      <th>0</th>\n",
       "      <td>1/18/2023 10:14:09</td>\n",
       "      <td>3800.0</td>\n",
       "      <td>5800</td>\n",
       "      <td>2.0</td>\n",
       "      <td>6.0</td>\n",
       "      <td>0</td>\n",
       "      <td>QA</td>\n",
       "      <td>Automation QA</td>\n",
       "      <td>София</td>\n",
       "      <td>Няма overtime</td>\n",
       "      <td>...</td>\n",
       "      <td>не</td>\n",
       "      <td>да</td>\n",
       "      <td>не, бонусите са фиксирани</td>\n",
       "      <td>Продукт</td>\n",
       "      <td>Не</td>\n",
       "      <td>32.0</td>\n",
       "      <td>Да</td>\n",
       "      <td>Не</td>\n",
       "      <td>Да</td>\n",
       "      <td>NaN</td>\n",
       "    </tr>\n",
       "    <tr>\n",
       "      <th>1</th>\n",
       "      <td>1/18/2023 10:18:27</td>\n",
       "      <td>3000.0</td>\n",
       "      <td>9600</td>\n",
       "      <td>5.0</td>\n",
       "      <td>8.0</td>\n",
       "      <td>1</td>\n",
       "      <td>Разработка на софтуер (Dev)</td>\n",
       "      <td>Senior Software Engineer</td>\n",
       "      <td>София</td>\n",
       "      <td>Не</td>\n",
       "      <td>...</td>\n",
       "      <td>не</td>\n",
       "      <td>да</td>\n",
       "      <td>не, нямаме бонуси</td>\n",
       "      <td>Продукт</td>\n",
       "      <td>15к $ годишно</td>\n",
       "      <td>25.0</td>\n",
       "      <td>Да</td>\n",
       "      <td>Не</td>\n",
       "      <td>Да</td>\n",
       "      <td>NaN</td>\n",
       "    </tr>\n",
       "    <tr>\n",
       "      <th>2</th>\n",
       "      <td>1/18/2023 10:23:24</td>\n",
       "      <td>9000.0</td>\n",
       "      <td>9000</td>\n",
       "      <td>4.0</td>\n",
       "      <td>7.0</td>\n",
       "      <td>0</td>\n",
       "      <td>Разработка на софтуер (Dev)</td>\n",
       "      <td>Fullstack developwer</td>\n",
       "      <td>София</td>\n",
       "      <td>Няма overtime</td>\n",
       "      <td>...</td>\n",
       "      <td>не</td>\n",
       "      <td>NaN</td>\n",
       "      <td>не, нямаме бонуси</td>\n",
       "      <td>Продукт</td>\n",
       "      <td>NaN</td>\n",
       "      <td>25.0</td>\n",
       "      <td>Да</td>\n",
       "      <td>Да</td>\n",
       "      <td>Да</td>\n",
       "      <td>NaN</td>\n",
       "    </tr>\n",
       "    <tr>\n",
       "      <th>3</th>\n",
       "      <td>1/18/2023 10:25:12</td>\n",
       "      <td>3400.0</td>\n",
       "      <td>5000</td>\n",
       "      <td>2.0</td>\n",
       "      <td>7.0</td>\n",
       "      <td>2</td>\n",
       "      <td>QA</td>\n",
       "      <td>QA Engineer</td>\n",
       "      <td>София</td>\n",
       "      <td>Няма overtime</td>\n",
       "      <td>...</td>\n",
       "      <td>не</td>\n",
       "      <td>да</td>\n",
       "      <td>не, бонусите са фиксирани</td>\n",
       "      <td>Сървис</td>\n",
       "      <td>Не</td>\n",
       "      <td>30.0</td>\n",
       "      <td>Да</td>\n",
       "      <td>Да</td>\n",
       "      <td>Да</td>\n",
       "      <td>NaN</td>\n",
       "    </tr>\n",
       "    <tr>\n",
       "      <th>4</th>\n",
       "      <td>1/18/2023 10:29:56</td>\n",
       "      <td>7500.0</td>\n",
       "      <td>10000</td>\n",
       "      <td>2.0</td>\n",
       "      <td>8.0</td>\n",
       "      <td>0</td>\n",
       "      <td>Разработка на софтуер (Dev)</td>\n",
       "      <td>full stack .net developer</td>\n",
       "      <td>гр. Америка (100% remote)</td>\n",
       "      <td>Няма overtime</td>\n",
       "      <td>...</td>\n",
       "      <td>да</td>\n",
       "      <td>да</td>\n",
       "      <td>не, нямаме бонуси</td>\n",
       "      <td>Продукт</td>\n",
       "      <td>не</td>\n",
       "      <td>0.0</td>\n",
       "      <td>Не</td>\n",
       "      <td>Не</td>\n",
       "      <td>Не</td>\n",
       "      <td>Контрактор съм - часовете трябва да ги отчета ...</td>\n",
       "    </tr>\n",
       "  </tbody>\n",
       "</table>\n",
       "<p>5 rows × 27 columns</p>\n",
       "</div>"
      ],
      "text/plain": [
       "            Timestamp  \\\n",
       "0  1/18/2023 10:14:09   \n",
       "1  1/18/2023 10:18:27   \n",
       "2  1/18/2023 10:23:24   \n",
       "3  1/18/2023 10:25:12   \n",
       "4  1/18/2023 10:29:56   \n",
       "\n",
       "   Стартова заплата на текущата позиция (месечна, нето, в лева)  \\\n",
       "0                                             3800.0              \n",
       "1                                             3000.0              \n",
       "2                                             9000.0              \n",
       "3                                             3400.0              \n",
       "4                                             7500.0              \n",
       "\n",
       "   Текуща заплата (месечна, нето, в лева)  \\\n",
       "0                                    5800   \n",
       "1                                    9600   \n",
       "2                                    9000   \n",
       "3                                    5000   \n",
       "4                                   10000   \n",
       "\n",
       "   Колко години стаж имате на текущата позиция?  Колко години стаж имате?  \\\n",
       "0                                           2.0                       6.0   \n",
       "1                                           5.0                       8.0   \n",
       "2                                           4.0                       7.0   \n",
       "3                                           2.0                       7.0   \n",
       "4                                           2.0                       8.0   \n",
       "\n",
       "   За колко човека отговаряте?       В коя област работите?  \\\n",
       "0                            0                           QA   \n",
       "1                            1  Разработка на софтуер (Dev)   \n",
       "2                            0  Разработка на софтуер (Dev)   \n",
       "3                            2                           QA   \n",
       "4                            0  Разработка на софтуер (Dev)   \n",
       "\n",
       "  Какво е точното название на позицията Ви?                       Град  \\\n",
       "0                             Automation QA                      София   \n",
       "1                  Senior Software Engineer                      София   \n",
       "2                      Fullstack developwer                      София   \n",
       "3                               QA Engineer                      София   \n",
       "4                 full stack .net developer  гр. Америка (100% remote)   \n",
       "\n",
       "  Заплаща ли се Overtime  ...  \\\n",
       "0          Няма overtime  ...   \n",
       "1                     Не  ...   \n",
       "2          Няма overtime  ...   \n",
       "3          Няма overtime  ...   \n",
       "4          Няма overtime  ...   \n",
       "\n",
       "   Фирмата изисква ли отчитане на часове за работния ден  \\\n",
       "0                                                 не       \n",
       "1                                                 не       \n",
       "2                                                 не       \n",
       "3                                                 не       \n",
       "4                                                 да       \n",
       "\n",
       "  Фирмата предлага ли работно време по твое желание (изключвайки срещите)? \"Имаш да свършиш това за днес, пък кога го вършиш - е твоя работа  \\\n",
       "0                                                 да                                                                                           \n",
       "1                                                 да                                                                                           \n",
       "2                                                NaN                                                                                           \n",
       "3                                                 да                                                                                           \n",
       "4                                                 да                                                                                           \n",
       "\n",
       "  Получавате ли бонуси на база добре свършена работа Тип на компанията  \\\n",
       "0                          не, бонусите са фиксирани           Продукт   \n",
       "1                                  не, нямаме бонуси           Продукт   \n",
       "2                                  не, нямаме бонуси           Продукт   \n",
       "3                          не, бонусите са фиксирани            Сървис   \n",
       "4                                  не, нямаме бонуси           Продукт   \n",
       "\n",
       "  Има ли и какви стокови опции или подобни Брой дни платен отпуск  \\\n",
       "0                                       Не                   32.0   \n",
       "1                            15к $ годишно                   25.0   \n",
       "2                                      NaN                   25.0   \n",
       "3                                       Не                   30.0   \n",
       "4                                       не                    0.0   \n",
       "\n",
       "  Получавате ли допълнително здравно осигуряване  \\\n",
       "0                                             Да   \n",
       "1                                             Да   \n",
       "2                                             Да   \n",
       "3                                             Да   \n",
       "4                                             Не   \n",
       "\n",
       "  Получавате ли карта/бюджет за спорт  \\\n",
       "0                                  Не   \n",
       "1                                  Не   \n",
       "2                                  Да   \n",
       "3                                  Да   \n",
       "4                                  Не   \n",
       "\n",
       "  Получавате ли бюджет за допълнителни обучения, курсове и сертификати  \\\n",
       "0                                                 Да                     \n",
       "1                                                 Да                     \n",
       "2                                                 Да                     \n",
       "3                                                 Да                     \n",
       "4                                                 Не                     \n",
       "\n",
       "                                             Бележки  \n",
       "0                                                NaN  \n",
       "1                                                NaN  \n",
       "2                                                NaN  \n",
       "3                                                NaN  \n",
       "4  Контрактор съм - часовете трябва да ги отчета ...  \n",
       "\n",
       "[5 rows x 27 columns]"
      ]
     },
     "execution_count": 2,
     "metadata": {},
     "output_type": "execute_result"
    }
   ],
   "source": [
    "df = pd.read_csv('./data/it_salaries_2023_bulgaria.csv')\n",
    "df.head()"
   ]
  },
  {
   "cell_type": "code",
   "execution_count": 3,
   "metadata": {},
   "outputs": [
    {
     "data": {
      "text/plain": [
       "Index(['Timestamp',\n",
       "       'Стартова заплата на текущата позиция (месечна, нето, в лева)',\n",
       "       'Текуща заплата (месечна, нето, в лева)',\n",
       "       'Колко години стаж имате на текущата позиция?',\n",
       "       'Колко години стаж имате?', 'За колко човека отговаряте?',\n",
       "       'В коя област работите?', 'Какво е точното название на позицията Ви?',\n",
       "       'Град', 'Заплаща ли се Overtime',\n",
       "       'Годишен размер на паричните бонуси (Нето, в лева)',\n",
       "       'Име на фирмата, в която работите', 'Какви технологии ползвате?',\n",
       "       'Имаше ли съкращения във вашата фирма в резултат на кризата',\n",
       "       'Получихте ли увеличение на заплатата, което да компенсира инфлацията в страната',\n",
       "       'Предлага ли по принцип дистанционна работа фирмата Ви',\n",
       "       'Фирмата изисква ли естимейти преди започване на таск',\n",
       "       'Фирмата изисква ли отчитане на часове за работния ден',\n",
       "       'Фирмата предлага ли работно време по твое желание (изключвайки срещите)? \"Имаш да свършиш това за днес, пък кога го вършиш - е твоя работа',\n",
       "       'Получавате ли бонуси на база добре свършена работа',\n",
       "       'Тип на компанията', 'Има ли и какви стокови опции или подобни',\n",
       "       'Брой дни платен отпуск',\n",
       "       'Получавате ли допълнително здравно осигуряване',\n",
       "       'Получавате ли карта/бюджет за спорт',\n",
       "       'Получавате ли бюджет за допълнителни обучения, курсове и сертификати',\n",
       "       'Бележки'],\n",
       "      dtype='object')"
      ]
     },
     "execution_count": 3,
     "metadata": {},
     "output_type": "execute_result"
    }
   ],
   "source": [
    "df.columns"
   ]
  },
  {
   "cell_type": "markdown",
   "metadata": {},
   "source": [
    "## Prepare data"
   ]
  },
  {
   "cell_type": "markdown",
   "metadata": {},
   "source": [
    "### Fix columns"
   ]
  },
  {
   "cell_type": "markdown",
   "metadata": {},
   "source": [
    "#### Drop irrelevant columns"
   ]
  },
  {
   "cell_type": "code",
   "execution_count": 4,
   "metadata": {},
   "outputs": [],
   "source": [
    "df = df.drop(columns=[\n",
    "                    'Timestamp',\n",
    "                    'Име на фирмата, в която работите', \n",
    "                    'Имаше ли съкращения във вашата фирма в резултат на кризата', \n",
    "                    'Получихте ли увеличение на заплатата, което да компенсира инфлацията в страната', \n",
    "                    'Фирмата изисква ли естимейти преди започване на таск', \n",
    "                    'Фирмата изисква ли отчитане на часове за работния ден', \n",
    "                    'Има ли и какви стокови опции или подобни', \n",
    "                    'Бележки', \n",
    "                    'Получавате ли допълнително здравно осигуряване', \n",
    "                    'Получавате ли карта/бюджет за спорт', \n",
    "                    'Получавате ли бюджет за допълнителни обучения, курсове и сертификати', \n",
    "                    'Град', \n",
    "                    'Заплаща ли се Overtime',\n",
    "                    'Годишен размер на паричните бонуси (Нето, в лева)',\n",
    "                    'Какви технологии ползвате?',\n",
    "                    'Предлага ли по принцип дистанционна работа фирмата Ви',\n",
    "                    'Фирмата предлага ли работно време по твое желание (изключвайки срещите)? \"Имаш да свършиш това за днес, пък кога го вършиш - е твоя работа',\n",
    "                    'Получавате ли бонуси на база добре свършена работа',\n",
    "                    'Тип на компанията', \n",
    "                    'Брой дни платен отпуск',\n",
    "                    'Какво е точното название на позицията Ви?'\n",
    "                    ])\n",
    "\n"
   ]
  },
  {
   "cell_type": "code",
   "execution_count": 5,
   "metadata": {},
   "outputs": [
    {
     "data": {
      "text/plain": [
       "Index(['Стартова заплата на текущата позиция (месечна, нето, в лева)',\n",
       "       'Текуща заплата (месечна, нето, в лева)',\n",
       "       'Колко години стаж имате на текущата позиция?',\n",
       "       'Колко години стаж имате?', 'За колко човека отговаряте?',\n",
       "       'В коя област работите?'],\n",
       "      dtype='object')"
      ]
     },
     "execution_count": 5,
     "metadata": {},
     "output_type": "execute_result"
    }
   ],
   "source": [
    "df.columns"
   ]
  },
  {
   "cell_type": "markdown",
   "metadata": {},
   "source": [
    "#### Change column names to English"
   ]
  },
  {
   "cell_type": "code",
   "execution_count": 6,
   "metadata": {},
   "outputs": [
    {
     "data": {
      "text/html": [
       "<div>\n",
       "<style scoped>\n",
       "    .dataframe tbody tr th:only-of-type {\n",
       "        vertical-align: middle;\n",
       "    }\n",
       "\n",
       "    .dataframe tbody tr th {\n",
       "        vertical-align: top;\n",
       "    }\n",
       "\n",
       "    .dataframe thead th {\n",
       "        text-align: right;\n",
       "    }\n",
       "</style>\n",
       "<table border=\"1\" class=\"dataframe\">\n",
       "  <thead>\n",
       "    <tr style=\"text-align: right;\">\n",
       "      <th></th>\n",
       "      <th>start_salary</th>\n",
       "      <th>curr_salary</th>\n",
       "      <th>curr_exp</th>\n",
       "      <th>total_exp</th>\n",
       "      <th>people_managed</th>\n",
       "      <th>pos</th>\n",
       "    </tr>\n",
       "  </thead>\n",
       "  <tbody>\n",
       "    <tr>\n",
       "      <th>0</th>\n",
       "      <td>3800.0</td>\n",
       "      <td>5800</td>\n",
       "      <td>2.0</td>\n",
       "      <td>6.0</td>\n",
       "      <td>0</td>\n",
       "      <td>QA</td>\n",
       "    </tr>\n",
       "    <tr>\n",
       "      <th>1</th>\n",
       "      <td>3000.0</td>\n",
       "      <td>9600</td>\n",
       "      <td>5.0</td>\n",
       "      <td>8.0</td>\n",
       "      <td>1</td>\n",
       "      <td>Разработка на софтуер (Dev)</td>\n",
       "    </tr>\n",
       "    <tr>\n",
       "      <th>2</th>\n",
       "      <td>9000.0</td>\n",
       "      <td>9000</td>\n",
       "      <td>4.0</td>\n",
       "      <td>7.0</td>\n",
       "      <td>0</td>\n",
       "      <td>Разработка на софтуер (Dev)</td>\n",
       "    </tr>\n",
       "    <tr>\n",
       "      <th>3</th>\n",
       "      <td>3400.0</td>\n",
       "      <td>5000</td>\n",
       "      <td>2.0</td>\n",
       "      <td>7.0</td>\n",
       "      <td>2</td>\n",
       "      <td>QA</td>\n",
       "    </tr>\n",
       "    <tr>\n",
       "      <th>4</th>\n",
       "      <td>7500.0</td>\n",
       "      <td>10000</td>\n",
       "      <td>2.0</td>\n",
       "      <td>8.0</td>\n",
       "      <td>0</td>\n",
       "      <td>Разработка на софтуер (Dev)</td>\n",
       "    </tr>\n",
       "    <tr>\n",
       "      <th>...</th>\n",
       "      <td>...</td>\n",
       "      <td>...</td>\n",
       "      <td>...</td>\n",
       "      <td>...</td>\n",
       "      <td>...</td>\n",
       "      <td>...</td>\n",
       "    </tr>\n",
       "    <tr>\n",
       "      <th>187</th>\n",
       "      <td>1000.0</td>\n",
       "      <td>2000</td>\n",
       "      <td>1.5</td>\n",
       "      <td>1.5</td>\n",
       "      <td>0</td>\n",
       "      <td>QA</td>\n",
       "    </tr>\n",
       "    <tr>\n",
       "      <th>188</th>\n",
       "      <td>2200.0</td>\n",
       "      <td>2200</td>\n",
       "      <td>0.0</td>\n",
       "      <td>2.0</td>\n",
       "      <td>0</td>\n",
       "      <td>Разработка на софтуер (Dev)</td>\n",
       "    </tr>\n",
       "    <tr>\n",
       "      <th>189</th>\n",
       "      <td>8900.0</td>\n",
       "      <td>9800</td>\n",
       "      <td>1.0</td>\n",
       "      <td>15.0</td>\n",
       "      <td>4</td>\n",
       "      <td>Мениджмънт/Тиим Лиид</td>\n",
       "    </tr>\n",
       "    <tr>\n",
       "      <th>190</th>\n",
       "      <td>1800.0</td>\n",
       "      <td>1800</td>\n",
       "      <td>0.0</td>\n",
       "      <td>2.0</td>\n",
       "      <td>0</td>\n",
       "      <td>Поддръжка на софтуер (Support)</td>\n",
       "    </tr>\n",
       "    <tr>\n",
       "      <th>191</th>\n",
       "      <td>800.0</td>\n",
       "      <td>1600</td>\n",
       "      <td>2.0</td>\n",
       "      <td>2.0</td>\n",
       "      <td>0</td>\n",
       "      <td>Разработка на софтуер (Dev)</td>\n",
       "    </tr>\n",
       "  </tbody>\n",
       "</table>\n",
       "<p>192 rows × 6 columns</p>\n",
       "</div>"
      ],
      "text/plain": [
       "     start_salary  curr_salary  curr_exp  total_exp  people_managed  \\\n",
       "0          3800.0         5800       2.0        6.0               0   \n",
       "1          3000.0         9600       5.0        8.0               1   \n",
       "2          9000.0         9000       4.0        7.0               0   \n",
       "3          3400.0         5000       2.0        7.0               2   \n",
       "4          7500.0        10000       2.0        8.0               0   \n",
       "..            ...          ...       ...        ...             ...   \n",
       "187        1000.0         2000       1.5        1.5               0   \n",
       "188        2200.0         2200       0.0        2.0               0   \n",
       "189        8900.0         9800       1.0       15.0               4   \n",
       "190        1800.0         1800       0.0        2.0               0   \n",
       "191         800.0         1600       2.0        2.0               0   \n",
       "\n",
       "                                pos  \n",
       "0                                QA  \n",
       "1       Разработка на софтуер (Dev)  \n",
       "2       Разработка на софтуер (Dev)  \n",
       "3                                QA  \n",
       "4       Разработка на софтуер (Dev)  \n",
       "..                              ...  \n",
       "187                              QA  \n",
       "188     Разработка на софтуер (Dev)  \n",
       "189            Мениджмънт/Тиим Лиид  \n",
       "190  Поддръжка на софтуер (Support)  \n",
       "191     Разработка на софтуер (Dev)  \n",
       "\n",
       "[192 rows x 6 columns]"
      ]
     },
     "execution_count": 6,
     "metadata": {},
     "output_type": "execute_result"
    }
   ],
   "source": [
    "# start_salary\n",
    "# curr_salary\n",
    "# experience\n",
    "# total_experience\n",
    "# people_manage\n",
    "# position\n",
    "\n",
    "df.columns = ['start_salary', 'curr_salary', 'curr_exp', 'total_exp', 'people_managed', 'pos']\n",
    "df"
   ]
  },
  {
   "cell_type": "code",
   "execution_count": 7,
   "metadata": {},
   "outputs": [
    {
     "data": {
      "text/plain": [
       "array(['QA', 'Разработка на софтуер (Dev)', 'Software Engineer ',\n",
       "       'DevOps', 'Поддръжка на софтуер (Support)', 'BI',\n",
       "       'Мениджмънт/Тиим Лиид', 'Security', 'Hardware', 'copywriter',\n",
       "       'All in one IT Specialist', 'обслужващ персонал - Лидл',\n",
       "       'UI/UX Designer', 'Networking', 'Research', 'Dev, UI/UX', 'BA'],\n",
       "      dtype=object)"
      ]
     },
     "execution_count": 7,
     "metadata": {},
     "output_type": "execute_result"
    }
   ],
   "source": [
    "df['pos'].unique()"
   ]
  },
  {
   "cell_type": "markdown",
   "metadata": {},
   "source": [
    "#### Change cells values to English"
   ]
  },
  {
   "cell_type": "code",
   "execution_count": 8,
   "metadata": {},
   "outputs": [
    {
     "data": {
      "text/plain": [
       "array(['QA', 'Software Developer', 'Software Engineer ', 'DevOps',\n",
       "       'Software Support', 'Data Analytics', 'Team Lead', 'Security',\n",
       "       'Hardware', 'Copywriter', 'All in one IT Specialist',\n",
       "       'обслужващ персонал - Лидл', 'UI/UX Designer', 'Networking',\n",
       "       'Research', 'UI/UX Developer', 'Business Analyst'], dtype=object)"
      ]
     },
     "execution_count": 8,
     "metadata": {},
     "output_type": "execute_result"
    }
   ],
   "source": [
    "pos_norm_dict = {\n",
    "    'Разработка на софтуер (Dev)': 'Software Developer',\n",
    "    'Поддръжка на софтуер (Support)': 'Software Support',\n",
    "    'Мениджмънт/Тиим Лиид': 'Team Lead',\n",
    "    'copywriter': 'Copywriter',\n",
    "    'Dev, UI/UX': 'UI/UX Developer',\n",
    "    'BI': 'Data Analytics',\n",
    "    'BA': 'Business Analyst'\n",
    "}\n",
    "\n",
    "df['pos'] = df['pos'].replace(pos_norm_dict)\n",
    "\n",
    "df['pos'].unique()"
   ]
  },
  {
   "cell_type": "markdown",
   "metadata": {},
   "source": [
    "### IQR Outliers Removal\n"
   ]
  },
  {
   "cell_type": "markdown",
   "metadata": {},
   "source": [
    "A box and whisker plot is a convenient way to visually display the data distribution through their quartiles. The lines extending parallel from the boxes are used to indicate variability iutside the upper and lower quartiles. Outliers are sometimes plotted as individual dots that are in-line with whiskers. \n",
    "https://datavizcatalogue.com/methods/box_plot.html"
   ]
  },
  {
   "cell_type": "code",
   "execution_count": 9,
   "metadata": {},
   "outputs": [],
   "source": [
    "salaries = df.copy()"
   ]
  },
  {
   "cell_type": "code",
   "execution_count": 10,
   "metadata": {},
   "outputs": [
    {
     "data": {
      "application/vnd.plotly.v1+json": {
       "config": {
        "plotlyServerURL": "https://plot.ly"
       },
       "data": [
        {
         "marker": {
          "color": "red"
         },
         "name": "Start salary",
         "type": "box",
         "x": [
          "QA",
          "Software Developer",
          "Software Developer",
          "QA",
          "Software Developer",
          "Software Engineer ",
          "Software Developer",
          "QA",
          "QA",
          "QA",
          "Software Developer",
          "DevOps",
          "Software Developer",
          "Software Developer",
          "Software Support",
          "Software Developer",
          "Software Developer",
          "Software Developer",
          "QA",
          "Software Developer",
          "Data Analytics",
          "Software Developer",
          "Software Developer",
          "Software Developer",
          "Team Lead",
          "Security",
          "Software Developer",
          "Software Developer",
          "Software Developer",
          "Software Developer",
          "Software Developer",
          "Software Developer",
          "Software Developer",
          "Software Developer",
          "Software Developer",
          "Software Developer",
          "Software Developer",
          "Team Lead",
          "Software Developer",
          "Hardware",
          "Software Developer",
          "DevOps",
          "Software Developer",
          "QA",
          "Team Lead",
          "Copywriter",
          "Team Lead",
          "Software Developer",
          "Software Developer",
          "Software Developer",
          "Software Developer",
          "Team Lead",
          "Software Developer",
          "Software Developer",
          "Software Developer",
          "Software Developer",
          "QA",
          "Software Developer",
          "DevOps",
          "Software Developer",
          "Software Developer",
          "Software Support",
          "Software Support",
          "Team Lead",
          "DevOps",
          "Software Developer",
          "DevOps",
          "Team Lead",
          "Software Developer",
          "All in one IT Specialist",
          "Hardware",
          "Software Developer",
          "DevOps",
          "QA",
          "Software Developer",
          "Software Developer",
          "Software Developer",
          "QA",
          "обслужващ персонал - Лидл",
          "Software Developer",
          "Software Developer",
          "Software Developer",
          "Software Developer",
          "DevOps",
          "Software Developer",
          "Software Developer",
          "Software Developer",
          "Software Developer",
          "Software Developer",
          "Software Developer",
          "Software Developer",
          "Software Developer",
          "Team Lead",
          "Software Developer",
          "Team Lead",
          "Software Developer",
          "Software Developer",
          "Software Developer",
          "Software Developer",
          "QA",
          "Software Developer",
          "Team Lead",
          "Team Lead",
          "Software Developer",
          "Software Developer",
          "Software Support",
          "Team Lead",
          "QA",
          "UI/UX Designer",
          "Software Developer",
          "Team Lead",
          "Software Developer",
          "Software Developer",
          "Team Lead",
          "Security",
          "DevOps",
          "Software Support",
          "Team Lead",
          "Team Lead",
          "Software Developer",
          "Software Developer",
          "QA",
          "Software Developer",
          "DevOps",
          "Software Developer",
          "Software Developer",
          "Software Developer",
          "Software Developer",
          "Team Lead",
          "Networking",
          "Team Lead",
          "Software Developer",
          "Software Support",
          "Software Developer",
          "Team Lead",
          "Software Support",
          "Software Developer",
          "Software Developer",
          "Software Developer",
          "QA",
          "Software Developer",
          "Team Lead",
          "Software Developer",
          "DevOps",
          "Software Developer",
          "Software Developer",
          "Software Developer",
          "Software Developer",
          "QA",
          "Software Developer",
          "QA",
          "Software Developer",
          "QA",
          "Software Developer",
          "Software Developer",
          "Software Developer",
          "Software Developer",
          "Software Developer",
          "Software Developer",
          "Software Developer",
          "Software Developer",
          "Software Developer",
          "Team Lead",
          "Software Developer",
          "QA",
          "Software Developer",
          "DevOps",
          "Software Developer",
          "Software Developer",
          "Software Developer",
          "Software Developer",
          "Research",
          "Team Lead",
          "Software Developer",
          "Team Lead",
          "Software Developer",
          "Software Developer",
          "UI/UX Developer",
          "QA",
          "Business Analyst",
          "Software Developer",
          "Software Developer",
          "Software Developer",
          "Software Developer",
          "Software Developer",
          "Software Developer",
          "Software Developer",
          "QA",
          "Software Developer",
          "Team Lead",
          "Software Support",
          "Software Developer"
         ],
         "y": [
          3800,
          3000,
          9000,
          3400,
          7500,
          4400,
          5500,
          550,
          3000,
          4500,
          4200,
          1200,
          1500,
          null,
          2100,
          3500,
          12000,
          8900,
          7500,
          7500,
          null,
          6000,
          7138,
          6000,
          8000,
          4500,
          9500,
          1800,
          2500,
          2000,
          1200,
          6000,
          9500,
          4000,
          3000,
          9000,
          1300,
          12000,
          4200,
          3500,
          3500,
          3800,
          9000,
          1700,
          10000,
          600,
          2900,
          5500,
          8300,
          null,
          3600,
          11000,
          7700,
          3000,
          1400,
          5000,
          6000,
          10000,
          3000,
          9500,
          6250,
          6000,
          1300,
          10000,
          2700,
          3000,
          4000,
          7800,
          1500,
          1700,
          900,
          1500,
          3500,
          2800,
          3000,
          1200,
          1250,
          800,
          500,
          730,
          1200,
          1300,
          2000,
          2300,
          null,
          1500,
          2600,
          3800,
          4000,
          2000,
          2000,
          16000,
          3000,
          4000,
          5000,
          9000,
          4200,
          3973,
          1200,
          2000,
          5000,
          4900,
          10500,
          4000,
          1400,
          1700,
          2000,
          2000,
          4000,
          7700,
          6000,
          3800,
          6500,
          4700,
          8500,
          2500,
          1000,
          10500,
          7500,
          1800,
          3000,
          3700,
          1500,
          5600,
          700,
          8500,
          4500,
          null,
          7500,
          1500,
          15000,
          8500,
          2250,
          4200,
          7200,
          1800,
          6500,
          3300,
          3600,
          4200,
          4000,
          10000,
          4500,
          6000,
          2800,
          6000,
          null,
          4200,
          1700,
          8500,
          8500,
          4000,
          6500,
          5500,
          4000,
          6000,
          10000,
          3250,
          4000,
          8000,
          4000,
          null,
          6000,
          4000,
          2300,
          25000,
          1200,
          2000,
          7000,
          12000,
          4000,
          6500,
          10000,
          6000,
          6000,
          6000,
          2500,
          2200,
          5000,
          2500,
          4700,
          1500,
          null,
          4500,
          2800,
          2150,
          4000,
          1000,
          2200,
          8900,
          1800,
          800
         ]
        },
        {
         "marker": {
          "color": "green"
         },
         "name": "Current salary",
         "type": "box",
         "x": [
          "QA",
          "Software Developer",
          "Software Developer",
          "QA",
          "Software Developer",
          "Software Engineer ",
          "Software Developer",
          "QA",
          "QA",
          "QA",
          "Software Developer",
          "DevOps",
          "Software Developer",
          "Software Developer",
          "Software Support",
          "Software Developer",
          "Software Developer",
          "Software Developer",
          "QA",
          "Software Developer",
          "Data Analytics",
          "Software Developer",
          "Software Developer",
          "Software Developer",
          "Team Lead",
          "Security",
          "Software Developer",
          "Software Developer",
          "Software Developer",
          "Software Developer",
          "Software Developer",
          "Software Developer",
          "Software Developer",
          "Software Developer",
          "Software Developer",
          "Software Developer",
          "Software Developer",
          "Team Lead",
          "Software Developer",
          "Hardware",
          "Software Developer",
          "DevOps",
          "Software Developer",
          "QA",
          "Team Lead",
          "Copywriter",
          "Team Lead",
          "Software Developer",
          "Software Developer",
          "Software Developer",
          "Software Developer",
          "Team Lead",
          "Software Developer",
          "Software Developer",
          "Software Developer",
          "Software Developer",
          "QA",
          "Software Developer",
          "DevOps",
          "Software Developer",
          "Software Developer",
          "Software Support",
          "Software Support",
          "Team Lead",
          "DevOps",
          "Software Developer",
          "DevOps",
          "Team Lead",
          "Software Developer",
          "All in one IT Specialist",
          "Hardware",
          "Software Developer",
          "DevOps",
          "QA",
          "Software Developer",
          "Software Developer",
          "Software Developer",
          "QA",
          "обслужващ персонал - Лидл",
          "Software Developer",
          "Software Developer",
          "Software Developer",
          "Software Developer",
          "DevOps",
          "Software Developer",
          "Software Developer",
          "Software Developer",
          "Software Developer",
          "Software Developer",
          "Software Developer",
          "Software Developer",
          "Software Developer",
          "Team Lead",
          "Software Developer",
          "Team Lead",
          "Software Developer",
          "Software Developer",
          "Software Developer",
          "Software Developer",
          "QA",
          "Software Developer",
          "Team Lead",
          "Team Lead",
          "Software Developer",
          "Software Developer",
          "Software Support",
          "Team Lead",
          "QA",
          "UI/UX Designer",
          "Software Developer",
          "Team Lead",
          "Software Developer",
          "Software Developer",
          "Team Lead",
          "Security",
          "DevOps",
          "Software Support",
          "Team Lead",
          "Team Lead",
          "Software Developer",
          "Software Developer",
          "QA",
          "Software Developer",
          "DevOps",
          "Software Developer",
          "Software Developer",
          "Software Developer",
          "Software Developer",
          "Team Lead",
          "Networking",
          "Team Lead",
          "Software Developer",
          "Software Support",
          "Software Developer",
          "Team Lead",
          "Software Support",
          "Software Developer",
          "Software Developer",
          "Software Developer",
          "QA",
          "Software Developer",
          "Team Lead",
          "Software Developer",
          "DevOps",
          "Software Developer",
          "Software Developer",
          "Software Developer",
          "Software Developer",
          "QA",
          "Software Developer",
          "QA",
          "Software Developer",
          "QA",
          "Software Developer",
          "Software Developer",
          "Software Developer",
          "Software Developer",
          "Software Developer",
          "Software Developer",
          "Software Developer",
          "Software Developer",
          "Software Developer",
          "Team Lead",
          "Software Developer",
          "QA",
          "Software Developer",
          "DevOps",
          "Software Developer",
          "Software Developer",
          "Software Developer",
          "Software Developer",
          "Research",
          "Team Lead",
          "Software Developer",
          "Team Lead",
          "Software Developer",
          "Software Developer",
          "UI/UX Developer",
          "QA",
          "Business Analyst",
          "Software Developer",
          "Software Developer",
          "Software Developer",
          "Software Developer",
          "Software Developer",
          "Software Developer",
          "Software Developer",
          "QA",
          "Software Developer",
          "Team Lead",
          "Software Support",
          "Software Developer"
         ],
         "y": [
          5800,
          9600,
          9000,
          5000,
          10000,
          4400,
          5500,
          550,
          3000,
          4500,
          8000,
          2000,
          4000,
          5200,
          3150,
          5000,
          12000,
          8900,
          7500,
          8500,
          6500,
          6000,
          8650,
          8000,
          12000,
          8000,
          15000,
          3500,
          3800,
          3500,
          5000,
          7900,
          9500,
          7500,
          3750,
          9000,
          4500,
          15500,
          5000,
          5000,
          4600,
          4200,
          10000,
          1700,
          12000,
          1200,
          6700,
          6000,
          9000,
          3000,
          3600,
          11000,
          9700,
          3700,
          1650,
          5300,
          6500,
          20000,
          3300,
          9500,
          6250,
          6000,
          3000,
          11000,
          6500,
          3500,
          8500,
          7800,
          4500,
          2800,
          1500,
          4500,
          5600,
          3500,
          4000,
          8000,
          14800,
          5500,
          1600,
          1480,
          3000,
          1600,
          4500,
          3500,
          6000,
          6200,
          2600,
          4000,
          4400,
          5100,
          5500,
          18000,
          7000,
          6000,
          5000,
          9000,
          7600,
          4853,
          3700,
          6000,
          5000,
          8000,
          11250,
          5300,
          1400,
          2300,
          5600,
          2200,
          4300,
          7700,
          8300,
          4400,
          7000,
          7000,
          8500,
          5500,
          3000,
          10500,
          7500,
          5000,
          4000,
          4400,
          3700,
          5600,
          2800,
          8925,
          4500,
          6800,
          9000,
          1900,
          18000,
          8500,
          2250,
          4200,
          8200,
          4000,
          6500,
          4800,
          6000,
          4200,
          6900,
          10000,
          6200,
          7400,
          4500,
          6400,
          7200,
          4500,
          2900,
          8500,
          8790,
          5000,
          7500,
          5500,
          5200,
          10000,
          10000,
          4900,
          4000,
          12000,
          6300,
          6000,
          10500,
          6000,
          4300,
          29000,
          2100,
          2000,
          7000,
          16000,
          6000,
          10000,
          12400,
          6000,
          9500,
          6000,
          3100,
          5600,
          6100,
          4500,
          6700,
          2800,
          4500,
          5500,
          3100,
          2150,
          4500,
          2000,
          2200,
          9800,
          1800,
          1600
         ]
        }
       ],
       "layout": {
        "boxmode": "group",
        "template": {
         "data": {
          "bar": [
           {
            "error_x": {
             "color": "#2a3f5f"
            },
            "error_y": {
             "color": "#2a3f5f"
            },
            "marker": {
             "line": {
              "color": "#E5ECF6",
              "width": 0.5
             },
             "pattern": {
              "fillmode": "overlay",
              "size": 10,
              "solidity": 0.2
             }
            },
            "type": "bar"
           }
          ],
          "barpolar": [
           {
            "marker": {
             "line": {
              "color": "#E5ECF6",
              "width": 0.5
             },
             "pattern": {
              "fillmode": "overlay",
              "size": 10,
              "solidity": 0.2
             }
            },
            "type": "barpolar"
           }
          ],
          "carpet": [
           {
            "aaxis": {
             "endlinecolor": "#2a3f5f",
             "gridcolor": "white",
             "linecolor": "white",
             "minorgridcolor": "white",
             "startlinecolor": "#2a3f5f"
            },
            "baxis": {
             "endlinecolor": "#2a3f5f",
             "gridcolor": "white",
             "linecolor": "white",
             "minorgridcolor": "white",
             "startlinecolor": "#2a3f5f"
            },
            "type": "carpet"
           }
          ],
          "choropleth": [
           {
            "colorbar": {
             "outlinewidth": 0,
             "ticks": ""
            },
            "type": "choropleth"
           }
          ],
          "contour": [
           {
            "colorbar": {
             "outlinewidth": 0,
             "ticks": ""
            },
            "colorscale": [
             [
              0,
              "#0d0887"
             ],
             [
              0.1111111111111111,
              "#46039f"
             ],
             [
              0.2222222222222222,
              "#7201a8"
             ],
             [
              0.3333333333333333,
              "#9c179e"
             ],
             [
              0.4444444444444444,
              "#bd3786"
             ],
             [
              0.5555555555555556,
              "#d8576b"
             ],
             [
              0.6666666666666666,
              "#ed7953"
             ],
             [
              0.7777777777777778,
              "#fb9f3a"
             ],
             [
              0.8888888888888888,
              "#fdca26"
             ],
             [
              1,
              "#f0f921"
             ]
            ],
            "type": "contour"
           }
          ],
          "contourcarpet": [
           {
            "colorbar": {
             "outlinewidth": 0,
             "ticks": ""
            },
            "type": "contourcarpet"
           }
          ],
          "heatmap": [
           {
            "colorbar": {
             "outlinewidth": 0,
             "ticks": ""
            },
            "colorscale": [
             [
              0,
              "#0d0887"
             ],
             [
              0.1111111111111111,
              "#46039f"
             ],
             [
              0.2222222222222222,
              "#7201a8"
             ],
             [
              0.3333333333333333,
              "#9c179e"
             ],
             [
              0.4444444444444444,
              "#bd3786"
             ],
             [
              0.5555555555555556,
              "#d8576b"
             ],
             [
              0.6666666666666666,
              "#ed7953"
             ],
             [
              0.7777777777777778,
              "#fb9f3a"
             ],
             [
              0.8888888888888888,
              "#fdca26"
             ],
             [
              1,
              "#f0f921"
             ]
            ],
            "type": "heatmap"
           }
          ],
          "heatmapgl": [
           {
            "colorbar": {
             "outlinewidth": 0,
             "ticks": ""
            },
            "colorscale": [
             [
              0,
              "#0d0887"
             ],
             [
              0.1111111111111111,
              "#46039f"
             ],
             [
              0.2222222222222222,
              "#7201a8"
             ],
             [
              0.3333333333333333,
              "#9c179e"
             ],
             [
              0.4444444444444444,
              "#bd3786"
             ],
             [
              0.5555555555555556,
              "#d8576b"
             ],
             [
              0.6666666666666666,
              "#ed7953"
             ],
             [
              0.7777777777777778,
              "#fb9f3a"
             ],
             [
              0.8888888888888888,
              "#fdca26"
             ],
             [
              1,
              "#f0f921"
             ]
            ],
            "type": "heatmapgl"
           }
          ],
          "histogram": [
           {
            "marker": {
             "pattern": {
              "fillmode": "overlay",
              "size": 10,
              "solidity": 0.2
             }
            },
            "type": "histogram"
           }
          ],
          "histogram2d": [
           {
            "colorbar": {
             "outlinewidth": 0,
             "ticks": ""
            },
            "colorscale": [
             [
              0,
              "#0d0887"
             ],
             [
              0.1111111111111111,
              "#46039f"
             ],
             [
              0.2222222222222222,
              "#7201a8"
             ],
             [
              0.3333333333333333,
              "#9c179e"
             ],
             [
              0.4444444444444444,
              "#bd3786"
             ],
             [
              0.5555555555555556,
              "#d8576b"
             ],
             [
              0.6666666666666666,
              "#ed7953"
             ],
             [
              0.7777777777777778,
              "#fb9f3a"
             ],
             [
              0.8888888888888888,
              "#fdca26"
             ],
             [
              1,
              "#f0f921"
             ]
            ],
            "type": "histogram2d"
           }
          ],
          "histogram2dcontour": [
           {
            "colorbar": {
             "outlinewidth": 0,
             "ticks": ""
            },
            "colorscale": [
             [
              0,
              "#0d0887"
             ],
             [
              0.1111111111111111,
              "#46039f"
             ],
             [
              0.2222222222222222,
              "#7201a8"
             ],
             [
              0.3333333333333333,
              "#9c179e"
             ],
             [
              0.4444444444444444,
              "#bd3786"
             ],
             [
              0.5555555555555556,
              "#d8576b"
             ],
             [
              0.6666666666666666,
              "#ed7953"
             ],
             [
              0.7777777777777778,
              "#fb9f3a"
             ],
             [
              0.8888888888888888,
              "#fdca26"
             ],
             [
              1,
              "#f0f921"
             ]
            ],
            "type": "histogram2dcontour"
           }
          ],
          "mesh3d": [
           {
            "colorbar": {
             "outlinewidth": 0,
             "ticks": ""
            },
            "type": "mesh3d"
           }
          ],
          "parcoords": [
           {
            "line": {
             "colorbar": {
              "outlinewidth": 0,
              "ticks": ""
             }
            },
            "type": "parcoords"
           }
          ],
          "pie": [
           {
            "automargin": true,
            "type": "pie"
           }
          ],
          "scatter": [
           {
            "fillpattern": {
             "fillmode": "overlay",
             "size": 10,
             "solidity": 0.2
            },
            "type": "scatter"
           }
          ],
          "scatter3d": [
           {
            "line": {
             "colorbar": {
              "outlinewidth": 0,
              "ticks": ""
             }
            },
            "marker": {
             "colorbar": {
              "outlinewidth": 0,
              "ticks": ""
             }
            },
            "type": "scatter3d"
           }
          ],
          "scattercarpet": [
           {
            "marker": {
             "colorbar": {
              "outlinewidth": 0,
              "ticks": ""
             }
            },
            "type": "scattercarpet"
           }
          ],
          "scattergeo": [
           {
            "marker": {
             "colorbar": {
              "outlinewidth": 0,
              "ticks": ""
             }
            },
            "type": "scattergeo"
           }
          ],
          "scattergl": [
           {
            "marker": {
             "colorbar": {
              "outlinewidth": 0,
              "ticks": ""
             }
            },
            "type": "scattergl"
           }
          ],
          "scattermapbox": [
           {
            "marker": {
             "colorbar": {
              "outlinewidth": 0,
              "ticks": ""
             }
            },
            "type": "scattermapbox"
           }
          ],
          "scatterpolar": [
           {
            "marker": {
             "colorbar": {
              "outlinewidth": 0,
              "ticks": ""
             }
            },
            "type": "scatterpolar"
           }
          ],
          "scatterpolargl": [
           {
            "marker": {
             "colorbar": {
              "outlinewidth": 0,
              "ticks": ""
             }
            },
            "type": "scatterpolargl"
           }
          ],
          "scatterternary": [
           {
            "marker": {
             "colorbar": {
              "outlinewidth": 0,
              "ticks": ""
             }
            },
            "type": "scatterternary"
           }
          ],
          "surface": [
           {
            "colorbar": {
             "outlinewidth": 0,
             "ticks": ""
            },
            "colorscale": [
             [
              0,
              "#0d0887"
             ],
             [
              0.1111111111111111,
              "#46039f"
             ],
             [
              0.2222222222222222,
              "#7201a8"
             ],
             [
              0.3333333333333333,
              "#9c179e"
             ],
             [
              0.4444444444444444,
              "#bd3786"
             ],
             [
              0.5555555555555556,
              "#d8576b"
             ],
             [
              0.6666666666666666,
              "#ed7953"
             ],
             [
              0.7777777777777778,
              "#fb9f3a"
             ],
             [
              0.8888888888888888,
              "#fdca26"
             ],
             [
              1,
              "#f0f921"
             ]
            ],
            "type": "surface"
           }
          ],
          "table": [
           {
            "cells": {
             "fill": {
              "color": "#EBF0F8"
             },
             "line": {
              "color": "white"
             }
            },
            "header": {
             "fill": {
              "color": "#C8D4E3"
             },
             "line": {
              "color": "white"
             }
            },
            "type": "table"
           }
          ]
         },
         "layout": {
          "annotationdefaults": {
           "arrowcolor": "#2a3f5f",
           "arrowhead": 0,
           "arrowwidth": 1
          },
          "autotypenumbers": "strict",
          "coloraxis": {
           "colorbar": {
            "outlinewidth": 0,
            "ticks": ""
           }
          },
          "colorscale": {
           "diverging": [
            [
             0,
             "#8e0152"
            ],
            [
             0.1,
             "#c51b7d"
            ],
            [
             0.2,
             "#de77ae"
            ],
            [
             0.3,
             "#f1b6da"
            ],
            [
             0.4,
             "#fde0ef"
            ],
            [
             0.5,
             "#f7f7f7"
            ],
            [
             0.6,
             "#e6f5d0"
            ],
            [
             0.7,
             "#b8e186"
            ],
            [
             0.8,
             "#7fbc41"
            ],
            [
             0.9,
             "#4d9221"
            ],
            [
             1,
             "#276419"
            ]
           ],
           "sequential": [
            [
             0,
             "#0d0887"
            ],
            [
             0.1111111111111111,
             "#46039f"
            ],
            [
             0.2222222222222222,
             "#7201a8"
            ],
            [
             0.3333333333333333,
             "#9c179e"
            ],
            [
             0.4444444444444444,
             "#bd3786"
            ],
            [
             0.5555555555555556,
             "#d8576b"
            ],
            [
             0.6666666666666666,
             "#ed7953"
            ],
            [
             0.7777777777777778,
             "#fb9f3a"
            ],
            [
             0.8888888888888888,
             "#fdca26"
            ],
            [
             1,
             "#f0f921"
            ]
           ],
           "sequentialminus": [
            [
             0,
             "#0d0887"
            ],
            [
             0.1111111111111111,
             "#46039f"
            ],
            [
             0.2222222222222222,
             "#7201a8"
            ],
            [
             0.3333333333333333,
             "#9c179e"
            ],
            [
             0.4444444444444444,
             "#bd3786"
            ],
            [
             0.5555555555555556,
             "#d8576b"
            ],
            [
             0.6666666666666666,
             "#ed7953"
            ],
            [
             0.7777777777777778,
             "#fb9f3a"
            ],
            [
             0.8888888888888888,
             "#fdca26"
            ],
            [
             1,
             "#f0f921"
            ]
           ]
          },
          "colorway": [
           "#636efa",
           "#EF553B",
           "#00cc96",
           "#ab63fa",
           "#FFA15A",
           "#19d3f3",
           "#FF6692",
           "#B6E880",
           "#FF97FF",
           "#FECB52"
          ],
          "font": {
           "color": "#2a3f5f"
          },
          "geo": {
           "bgcolor": "white",
           "lakecolor": "white",
           "landcolor": "#E5ECF6",
           "showlakes": true,
           "showland": true,
           "subunitcolor": "white"
          },
          "hoverlabel": {
           "align": "left"
          },
          "hovermode": "closest",
          "mapbox": {
           "style": "light"
          },
          "paper_bgcolor": "white",
          "plot_bgcolor": "#E5ECF6",
          "polar": {
           "angularaxis": {
            "gridcolor": "white",
            "linecolor": "white",
            "ticks": ""
           },
           "bgcolor": "#E5ECF6",
           "radialaxis": {
            "gridcolor": "white",
            "linecolor": "white",
            "ticks": ""
           }
          },
          "scene": {
           "xaxis": {
            "backgroundcolor": "#E5ECF6",
            "gridcolor": "white",
            "gridwidth": 2,
            "linecolor": "white",
            "showbackground": true,
            "ticks": "",
            "zerolinecolor": "white"
           },
           "yaxis": {
            "backgroundcolor": "#E5ECF6",
            "gridcolor": "white",
            "gridwidth": 2,
            "linecolor": "white",
            "showbackground": true,
            "ticks": "",
            "zerolinecolor": "white"
           },
           "zaxis": {
            "backgroundcolor": "#E5ECF6",
            "gridcolor": "white",
            "gridwidth": 2,
            "linecolor": "white",
            "showbackground": true,
            "ticks": "",
            "zerolinecolor": "white"
           }
          },
          "shapedefaults": {
           "line": {
            "color": "#2a3f5f"
           }
          },
          "ternary": {
           "aaxis": {
            "gridcolor": "white",
            "linecolor": "white",
            "ticks": ""
           },
           "baxis": {
            "gridcolor": "white",
            "linecolor": "white",
            "ticks": ""
           },
           "bgcolor": "#E5ECF6",
           "caxis": {
            "gridcolor": "white",
            "linecolor": "white",
            "ticks": ""
           }
          },
          "title": {
           "x": 0.05
          },
          "xaxis": {
           "automargin": true,
           "gridcolor": "white",
           "linecolor": "white",
           "ticks": "",
           "title": {
            "standoff": 15
           },
           "zerolinecolor": "white",
           "zerolinewidth": 2
          },
          "yaxis": {
           "automargin": true,
           "gridcolor": "white",
           "linecolor": "white",
           "ticks": "",
           "title": {
            "standoff": 15
           },
           "zerolinecolor": "white",
           "zerolinewidth": 2
          }
         }
        },
        "xaxis": {
         "title": {
          "text": "Position"
         },
         "zeroline": false
        },
        "yaxis": {
         "title": {
          "text": "Salary (BGN, netto)"
         },
         "zeroline": false
        }
       }
      }
     },
     "metadata": {},
     "output_type": "display_data"
    }
   ],
   "source": [
    "fig = go.Figure()\n",
    "fig.add_trace(go.Box(\n",
    "    x=salaries['pos'], \n",
    "    y=salaries['start_salary'],\n",
    "    name='Start salary',\n",
    "    marker_color='red'\n",
    "))\n",
    "fig.add_trace(go.Box(\n",
    "    x=salaries['pos'], \n",
    "    y=salaries['curr_salary'],\n",
    "    name='Current salary',\n",
    "    marker_color='green'\n",
    "))\n",
    "\n",
    "fig.update_layout(\n",
    "    xaxis=dict(title='Position', zeroline=False),\n",
    "    yaxis=dict(title='Salary (BGN, netto)', zeroline=False),\n",
    "    boxmode='group'\n",
    ")\n",
    "\n",
    "fig.show()"
   ]
  },
  {
   "cell_type": "markdown",
   "metadata": {},
   "source": [
    "From the following graph we can see that in the positions for Software Developer and Software Support the outliers are the most apparent."
   ]
  },
  {
   "cell_type": "code",
   "execution_count": 11,
   "metadata": {},
   "outputs": [
    {
     "data": {
      "application/vnd.plotly.v1+json": {
       "config": {
        "plotlyServerURL": "https://plot.ly"
       },
       "data": [
        {
         "marker": {
          "color": "orange"
         },
         "name": "Experience current position",
         "type": "box",
         "x": [
          "QA",
          "Software Developer",
          "Software Developer",
          "QA",
          "Software Developer",
          "Software Engineer ",
          "Software Developer",
          "QA",
          "QA",
          "QA",
          "Software Developer",
          "DevOps",
          "Software Developer",
          "Software Developer",
          "Software Support",
          "Software Developer",
          "Software Developer",
          "Software Developer",
          "QA",
          "Software Developer",
          "Data Analytics",
          "Software Developer",
          "Software Developer",
          "Software Developer",
          "Team Lead",
          "Security",
          "Software Developer",
          "Software Developer",
          "Software Developer",
          "Software Developer",
          "Software Developer",
          "Software Developer",
          "Software Developer",
          "Software Developer",
          "Software Developer",
          "Software Developer",
          "Software Developer",
          "Team Lead",
          "Software Developer",
          "Hardware",
          "Software Developer",
          "DevOps",
          "Software Developer",
          "QA",
          "Team Lead",
          "Copywriter",
          "Team Lead",
          "Software Developer",
          "Software Developer",
          "Software Developer",
          "Software Developer",
          "Team Lead",
          "Software Developer",
          "Software Developer",
          "Software Developer",
          "Software Developer",
          "QA",
          "Software Developer",
          "DevOps",
          "Software Developer",
          "Software Developer",
          "Software Support",
          "Software Support",
          "Team Lead",
          "DevOps",
          "Software Developer",
          "DevOps",
          "Team Lead",
          "Software Developer",
          "All in one IT Specialist",
          "Hardware",
          "Software Developer",
          "DevOps",
          "QA",
          "Software Developer",
          "Software Developer",
          "Software Developer",
          "QA",
          "обслужващ персонал - Лидл",
          "Software Developer",
          "Software Developer",
          "Software Developer",
          "Software Developer",
          "DevOps",
          "Software Developer",
          "Software Developer",
          "Software Developer",
          "Software Developer",
          "Software Developer",
          "Software Developer",
          "Software Developer",
          "Software Developer",
          "Team Lead",
          "Software Developer",
          "Team Lead",
          "Software Developer",
          "Software Developer",
          "Software Developer",
          "Software Developer",
          "QA",
          "Software Developer",
          "Team Lead",
          "Team Lead",
          "Software Developer",
          "Software Developer",
          "Software Support",
          "Team Lead",
          "QA",
          "UI/UX Designer",
          "Software Developer",
          "Team Lead",
          "Software Developer",
          "Software Developer",
          "Team Lead",
          "Security",
          "DevOps",
          "Software Support",
          "Team Lead",
          "Team Lead",
          "Software Developer",
          "Software Developer",
          "QA",
          "Software Developer",
          "DevOps",
          "Software Developer",
          "Software Developer",
          "Software Developer",
          "Software Developer",
          "Team Lead",
          "Networking",
          "Team Lead",
          "Software Developer",
          "Software Support",
          "Software Developer",
          "Team Lead",
          "Software Support",
          "Software Developer",
          "Software Developer",
          "Software Developer",
          "QA",
          "Software Developer",
          "Team Lead",
          "Software Developer",
          "DevOps",
          "Software Developer",
          "Software Developer",
          "Software Developer",
          "Software Developer",
          "QA",
          "Software Developer",
          "QA",
          "Software Developer",
          "QA",
          "Software Developer",
          "Software Developer",
          "Software Developer",
          "Software Developer",
          "Software Developer",
          "Software Developer",
          "Software Developer",
          "Software Developer",
          "Software Developer",
          "Team Lead",
          "Software Developer",
          "QA",
          "Software Developer",
          "DevOps",
          "Software Developer",
          "Software Developer",
          "Software Developer",
          "Software Developer",
          "Research",
          "Team Lead",
          "Software Developer",
          "Team Lead",
          "Software Developer",
          "Software Developer",
          "UI/UX Developer",
          "QA",
          "Business Analyst",
          "Software Developer",
          "Software Developer",
          "Software Developer",
          "Software Developer",
          "Software Developer",
          "Software Developer",
          "Software Developer",
          "QA",
          "Software Developer",
          "Team Lead",
          "Software Support",
          "Software Developer"
         ],
         "y": [
          2,
          5,
          4,
          2,
          2,
          0.3,
          2,
          10,
          1.5,
          0,
          1,
          5,
          3,
          null,
          5,
          1,
          1,
          1,
          1,
          2,
          5,
          4,
          2,
          3,
          2,
          3,
          4,
          1.5,
          1.5,
          1,
          8,
          1.5,
          1,
          5,
          1,
          1,
          3.5,
          8,
          6,
          2,
          1.5,
          0,
          2,
          1,
          1,
          5,
          7,
          1,
          4,
          null,
          1,
          4,
          1.2,
          2,
          3,
          0.8,
          1,
          25,
          2,
          1,
          3,
          1,
          1,
          2,
          3,
          1.5,
          7,
          1,
          2,
          2,
          1,
          3.5,
          6,
          1.1,
          2,
          10,
          2,
          10,
          10,
          1,
          5,
          0,
          4,
          1,
          null,
          11,
          0,
          5,
          2,
          12,
          5,
          6,
          4,
          2.5,
          2,
          1,
          4,
          2,
          3.5,
          5,
          0,
          4,
          2,
          3,
          0.1,
          7,
          5,
          1,
          1.5,
          0,
          1,
          1,
          1,
          3,
          3,
          5,
          3,
          0.5,
          3,
          2.7,
          1,
          1,
          1.5,
          1,
          10,
          1,
          0.5,
          8,
          2,
          2,
          4,
          1,
          null,
          1,
          1,
          3,
          0.5,
          4.5,
          2,
          1,
          4,
          1,
          3,
          5,
          4,
          1,
          null,
          3,
          1.7,
          0.2,
          1,
          2,
          2,
          null,
          1,
          2,
          0.5,
          1,
          0,
          2,
          2,
          null,
          6,
          2,
          4,
          1.5,
          4,
          1,
          1,
          2,
          5,
          0.5,
          2,
          0,
          3,
          0.5,
          1.5,
          1.75,
          1.8,
          4.5,
          3,
          1,
          5,
          1.5,
          1.5,
          0,
          1,
          1.5,
          0,
          1,
          0,
          2
         ]
        },
        {
         "marker": {
          "color": "blue"
         },
         "name": "Total experience",
         "type": "box",
         "x": [
          "QA",
          "Software Developer",
          "Software Developer",
          "QA",
          "Software Developer",
          "Software Engineer ",
          "Software Developer",
          "QA",
          "QA",
          "QA",
          "Software Developer",
          "DevOps",
          "Software Developer",
          "Software Developer",
          "Software Support",
          "Software Developer",
          "Software Developer",
          "Software Developer",
          "QA",
          "Software Developer",
          "Data Analytics",
          "Software Developer",
          "Software Developer",
          "Software Developer",
          "Team Lead",
          "Security",
          "Software Developer",
          "Software Developer",
          "Software Developer",
          "Software Developer",
          "Software Developer",
          "Software Developer",
          "Software Developer",
          "Software Developer",
          "Software Developer",
          "Software Developer",
          "Software Developer",
          "Team Lead",
          "Software Developer",
          "Hardware",
          "Software Developer",
          "DevOps",
          "Software Developer",
          "QA",
          "Team Lead",
          "Copywriter",
          "Team Lead",
          "Software Developer",
          "Software Developer",
          "Software Developer",
          "Software Developer",
          "Team Lead",
          "Software Developer",
          "Software Developer",
          "Software Developer",
          "Software Developer",
          "QA",
          "Software Developer",
          "DevOps",
          "Software Developer",
          "Software Developer",
          "Software Support",
          "Software Support",
          "Team Lead",
          "DevOps",
          "Software Developer",
          "DevOps",
          "Team Lead",
          "Software Developer",
          "All in one IT Specialist",
          "Hardware",
          "Software Developer",
          "DevOps",
          "QA",
          "Software Developer",
          "Software Developer",
          "Software Developer",
          "QA",
          "обслужващ персонал - Лидл",
          "Software Developer",
          "Software Developer",
          "Software Developer",
          "Software Developer",
          "DevOps",
          "Software Developer",
          "Software Developer",
          "Software Developer",
          "Software Developer",
          "Software Developer",
          "Software Developer",
          "Software Developer",
          "Software Developer",
          "Team Lead",
          "Software Developer",
          "Team Lead",
          "Software Developer",
          "Software Developer",
          "Software Developer",
          "Software Developer",
          "QA",
          "Software Developer",
          "Team Lead",
          "Team Lead",
          "Software Developer",
          "Software Developer",
          "Software Support",
          "Team Lead",
          "QA",
          "UI/UX Designer",
          "Software Developer",
          "Team Lead",
          "Software Developer",
          "Software Developer",
          "Team Lead",
          "Security",
          "DevOps",
          "Software Support",
          "Team Lead",
          "Team Lead",
          "Software Developer",
          "Software Developer",
          "QA",
          "Software Developer",
          "DevOps",
          "Software Developer",
          "Software Developer",
          "Software Developer",
          "Software Developer",
          "Team Lead",
          "Networking",
          "Team Lead",
          "Software Developer",
          "Software Support",
          "Software Developer",
          "Team Lead",
          "Software Support",
          "Software Developer",
          "Software Developer",
          "Software Developer",
          "QA",
          "Software Developer",
          "Team Lead",
          "Software Developer",
          "DevOps",
          "Software Developer",
          "Software Developer",
          "Software Developer",
          "Software Developer",
          "QA",
          "Software Developer",
          "QA",
          "Software Developer",
          "QA",
          "Software Developer",
          "Software Developer",
          "Software Developer",
          "Software Developer",
          "Software Developer",
          "Software Developer",
          "Software Developer",
          "Software Developer",
          "Software Developer",
          "Team Lead",
          "Software Developer",
          "QA",
          "Software Developer",
          "DevOps",
          "Software Developer",
          "Software Developer",
          "Software Developer",
          "Software Developer",
          "Research",
          "Team Lead",
          "Software Developer",
          "Team Lead",
          "Software Developer",
          "Software Developer",
          "UI/UX Developer",
          "QA",
          "Business Analyst",
          "Software Developer",
          "Software Developer",
          "Software Developer",
          "Software Developer",
          "Software Developer",
          "Software Developer",
          "Software Developer",
          "QA",
          "Software Developer",
          "Team Lead",
          "Software Support",
          "Software Developer"
         ],
         "y": [
          6,
          8,
          7,
          7,
          8,
          6,
          14,
          0,
          3.5,
          7,
          4,
          7,
          4,
          4,
          10,
          6,
          10,
          10,
          16,
          8,
          15,
          10,
          10,
          7,
          10,
          6,
          10,
          1.5,
          3,
          1,
          8,
          10,
          12,
          10,
          30,
          16,
          4.5,
          15,
          13,
          11,
          4,
          0,
          20,
          4,
          17,
          7,
          13,
          8,
          9,
          1,
          1,
          12,
          6,
          4,
          6,
          2.5,
          9,
          30,
          15,
          8,
          3,
          15,
          1.5,
          22,
          6,
          4,
          9,
          8,
          2,
          3,
          2,
          3.5,
          16,
          2.5,
          12,
          10,
          10,
          13,
          10,
          1,
          5,
          0,
          4,
          5,
          9,
          11,
          1.5,
          10,
          5,
          12,
          6,
          20,
          10,
          3.5,
          13,
          7,
          7,
          4,
          3.5,
          5,
          3,
          15,
          15,
          5,
          2,
          9,
          15,
          1,
          10,
          5,
          17,
          7,
          5,
          10,
          7,
          8,
          3,
          8.5,
          8,
          2.7,
          1,
          7,
          2,
          6,
          15,
          16,
          3,
          8,
          10,
          15,
          14,
          6,
          4,
          3,
          15,
          4,
          8,
          4.5,
          5,
          8,
          12,
          12,
          14,
          8,
          8,
          8,
          10,
          21,
          1.7,
          8,
          18,
          4,
          20,
          3.5,
          3,
          5,
          4,
          2,
          1,
          6,
          3,
          5,
          15,
          6,
          23,
          1.5,
          16,
          10,
          9,
          8,
          10,
          0.5,
          13,
          3,
          16,
          1.5,
          2,
          1.7,
          13,
          6,
          8,
          1,
          5,
          3,
          1.5,
          0,
          5,
          1.5,
          2,
          15,
          2,
          2
         ]
        }
       ],
       "layout": {
        "boxmode": "group",
        "template": {
         "data": {
          "bar": [
           {
            "error_x": {
             "color": "#2a3f5f"
            },
            "error_y": {
             "color": "#2a3f5f"
            },
            "marker": {
             "line": {
              "color": "#E5ECF6",
              "width": 0.5
             },
             "pattern": {
              "fillmode": "overlay",
              "size": 10,
              "solidity": 0.2
             }
            },
            "type": "bar"
           }
          ],
          "barpolar": [
           {
            "marker": {
             "line": {
              "color": "#E5ECF6",
              "width": 0.5
             },
             "pattern": {
              "fillmode": "overlay",
              "size": 10,
              "solidity": 0.2
             }
            },
            "type": "barpolar"
           }
          ],
          "carpet": [
           {
            "aaxis": {
             "endlinecolor": "#2a3f5f",
             "gridcolor": "white",
             "linecolor": "white",
             "minorgridcolor": "white",
             "startlinecolor": "#2a3f5f"
            },
            "baxis": {
             "endlinecolor": "#2a3f5f",
             "gridcolor": "white",
             "linecolor": "white",
             "minorgridcolor": "white",
             "startlinecolor": "#2a3f5f"
            },
            "type": "carpet"
           }
          ],
          "choropleth": [
           {
            "colorbar": {
             "outlinewidth": 0,
             "ticks": ""
            },
            "type": "choropleth"
           }
          ],
          "contour": [
           {
            "colorbar": {
             "outlinewidth": 0,
             "ticks": ""
            },
            "colorscale": [
             [
              0,
              "#0d0887"
             ],
             [
              0.1111111111111111,
              "#46039f"
             ],
             [
              0.2222222222222222,
              "#7201a8"
             ],
             [
              0.3333333333333333,
              "#9c179e"
             ],
             [
              0.4444444444444444,
              "#bd3786"
             ],
             [
              0.5555555555555556,
              "#d8576b"
             ],
             [
              0.6666666666666666,
              "#ed7953"
             ],
             [
              0.7777777777777778,
              "#fb9f3a"
             ],
             [
              0.8888888888888888,
              "#fdca26"
             ],
             [
              1,
              "#f0f921"
             ]
            ],
            "type": "contour"
           }
          ],
          "contourcarpet": [
           {
            "colorbar": {
             "outlinewidth": 0,
             "ticks": ""
            },
            "type": "contourcarpet"
           }
          ],
          "heatmap": [
           {
            "colorbar": {
             "outlinewidth": 0,
             "ticks": ""
            },
            "colorscale": [
             [
              0,
              "#0d0887"
             ],
             [
              0.1111111111111111,
              "#46039f"
             ],
             [
              0.2222222222222222,
              "#7201a8"
             ],
             [
              0.3333333333333333,
              "#9c179e"
             ],
             [
              0.4444444444444444,
              "#bd3786"
             ],
             [
              0.5555555555555556,
              "#d8576b"
             ],
             [
              0.6666666666666666,
              "#ed7953"
             ],
             [
              0.7777777777777778,
              "#fb9f3a"
             ],
             [
              0.8888888888888888,
              "#fdca26"
             ],
             [
              1,
              "#f0f921"
             ]
            ],
            "type": "heatmap"
           }
          ],
          "heatmapgl": [
           {
            "colorbar": {
             "outlinewidth": 0,
             "ticks": ""
            },
            "colorscale": [
             [
              0,
              "#0d0887"
             ],
             [
              0.1111111111111111,
              "#46039f"
             ],
             [
              0.2222222222222222,
              "#7201a8"
             ],
             [
              0.3333333333333333,
              "#9c179e"
             ],
             [
              0.4444444444444444,
              "#bd3786"
             ],
             [
              0.5555555555555556,
              "#d8576b"
             ],
             [
              0.6666666666666666,
              "#ed7953"
             ],
             [
              0.7777777777777778,
              "#fb9f3a"
             ],
             [
              0.8888888888888888,
              "#fdca26"
             ],
             [
              1,
              "#f0f921"
             ]
            ],
            "type": "heatmapgl"
           }
          ],
          "histogram": [
           {
            "marker": {
             "pattern": {
              "fillmode": "overlay",
              "size": 10,
              "solidity": 0.2
             }
            },
            "type": "histogram"
           }
          ],
          "histogram2d": [
           {
            "colorbar": {
             "outlinewidth": 0,
             "ticks": ""
            },
            "colorscale": [
             [
              0,
              "#0d0887"
             ],
             [
              0.1111111111111111,
              "#46039f"
             ],
             [
              0.2222222222222222,
              "#7201a8"
             ],
             [
              0.3333333333333333,
              "#9c179e"
             ],
             [
              0.4444444444444444,
              "#bd3786"
             ],
             [
              0.5555555555555556,
              "#d8576b"
             ],
             [
              0.6666666666666666,
              "#ed7953"
             ],
             [
              0.7777777777777778,
              "#fb9f3a"
             ],
             [
              0.8888888888888888,
              "#fdca26"
             ],
             [
              1,
              "#f0f921"
             ]
            ],
            "type": "histogram2d"
           }
          ],
          "histogram2dcontour": [
           {
            "colorbar": {
             "outlinewidth": 0,
             "ticks": ""
            },
            "colorscale": [
             [
              0,
              "#0d0887"
             ],
             [
              0.1111111111111111,
              "#46039f"
             ],
             [
              0.2222222222222222,
              "#7201a8"
             ],
             [
              0.3333333333333333,
              "#9c179e"
             ],
             [
              0.4444444444444444,
              "#bd3786"
             ],
             [
              0.5555555555555556,
              "#d8576b"
             ],
             [
              0.6666666666666666,
              "#ed7953"
             ],
             [
              0.7777777777777778,
              "#fb9f3a"
             ],
             [
              0.8888888888888888,
              "#fdca26"
             ],
             [
              1,
              "#f0f921"
             ]
            ],
            "type": "histogram2dcontour"
           }
          ],
          "mesh3d": [
           {
            "colorbar": {
             "outlinewidth": 0,
             "ticks": ""
            },
            "type": "mesh3d"
           }
          ],
          "parcoords": [
           {
            "line": {
             "colorbar": {
              "outlinewidth": 0,
              "ticks": ""
             }
            },
            "type": "parcoords"
           }
          ],
          "pie": [
           {
            "automargin": true,
            "type": "pie"
           }
          ],
          "scatter": [
           {
            "fillpattern": {
             "fillmode": "overlay",
             "size": 10,
             "solidity": 0.2
            },
            "type": "scatter"
           }
          ],
          "scatter3d": [
           {
            "line": {
             "colorbar": {
              "outlinewidth": 0,
              "ticks": ""
             }
            },
            "marker": {
             "colorbar": {
              "outlinewidth": 0,
              "ticks": ""
             }
            },
            "type": "scatter3d"
           }
          ],
          "scattercarpet": [
           {
            "marker": {
             "colorbar": {
              "outlinewidth": 0,
              "ticks": ""
             }
            },
            "type": "scattercarpet"
           }
          ],
          "scattergeo": [
           {
            "marker": {
             "colorbar": {
              "outlinewidth": 0,
              "ticks": ""
             }
            },
            "type": "scattergeo"
           }
          ],
          "scattergl": [
           {
            "marker": {
             "colorbar": {
              "outlinewidth": 0,
              "ticks": ""
             }
            },
            "type": "scattergl"
           }
          ],
          "scattermapbox": [
           {
            "marker": {
             "colorbar": {
              "outlinewidth": 0,
              "ticks": ""
             }
            },
            "type": "scattermapbox"
           }
          ],
          "scatterpolar": [
           {
            "marker": {
             "colorbar": {
              "outlinewidth": 0,
              "ticks": ""
             }
            },
            "type": "scatterpolar"
           }
          ],
          "scatterpolargl": [
           {
            "marker": {
             "colorbar": {
              "outlinewidth": 0,
              "ticks": ""
             }
            },
            "type": "scatterpolargl"
           }
          ],
          "scatterternary": [
           {
            "marker": {
             "colorbar": {
              "outlinewidth": 0,
              "ticks": ""
             }
            },
            "type": "scatterternary"
           }
          ],
          "surface": [
           {
            "colorbar": {
             "outlinewidth": 0,
             "ticks": ""
            },
            "colorscale": [
             [
              0,
              "#0d0887"
             ],
             [
              0.1111111111111111,
              "#46039f"
             ],
             [
              0.2222222222222222,
              "#7201a8"
             ],
             [
              0.3333333333333333,
              "#9c179e"
             ],
             [
              0.4444444444444444,
              "#bd3786"
             ],
             [
              0.5555555555555556,
              "#d8576b"
             ],
             [
              0.6666666666666666,
              "#ed7953"
             ],
             [
              0.7777777777777778,
              "#fb9f3a"
             ],
             [
              0.8888888888888888,
              "#fdca26"
             ],
             [
              1,
              "#f0f921"
             ]
            ],
            "type": "surface"
           }
          ],
          "table": [
           {
            "cells": {
             "fill": {
              "color": "#EBF0F8"
             },
             "line": {
              "color": "white"
             }
            },
            "header": {
             "fill": {
              "color": "#C8D4E3"
             },
             "line": {
              "color": "white"
             }
            },
            "type": "table"
           }
          ]
         },
         "layout": {
          "annotationdefaults": {
           "arrowcolor": "#2a3f5f",
           "arrowhead": 0,
           "arrowwidth": 1
          },
          "autotypenumbers": "strict",
          "coloraxis": {
           "colorbar": {
            "outlinewidth": 0,
            "ticks": ""
           }
          },
          "colorscale": {
           "diverging": [
            [
             0,
             "#8e0152"
            ],
            [
             0.1,
             "#c51b7d"
            ],
            [
             0.2,
             "#de77ae"
            ],
            [
             0.3,
             "#f1b6da"
            ],
            [
             0.4,
             "#fde0ef"
            ],
            [
             0.5,
             "#f7f7f7"
            ],
            [
             0.6,
             "#e6f5d0"
            ],
            [
             0.7,
             "#b8e186"
            ],
            [
             0.8,
             "#7fbc41"
            ],
            [
             0.9,
             "#4d9221"
            ],
            [
             1,
             "#276419"
            ]
           ],
           "sequential": [
            [
             0,
             "#0d0887"
            ],
            [
             0.1111111111111111,
             "#46039f"
            ],
            [
             0.2222222222222222,
             "#7201a8"
            ],
            [
             0.3333333333333333,
             "#9c179e"
            ],
            [
             0.4444444444444444,
             "#bd3786"
            ],
            [
             0.5555555555555556,
             "#d8576b"
            ],
            [
             0.6666666666666666,
             "#ed7953"
            ],
            [
             0.7777777777777778,
             "#fb9f3a"
            ],
            [
             0.8888888888888888,
             "#fdca26"
            ],
            [
             1,
             "#f0f921"
            ]
           ],
           "sequentialminus": [
            [
             0,
             "#0d0887"
            ],
            [
             0.1111111111111111,
             "#46039f"
            ],
            [
             0.2222222222222222,
             "#7201a8"
            ],
            [
             0.3333333333333333,
             "#9c179e"
            ],
            [
             0.4444444444444444,
             "#bd3786"
            ],
            [
             0.5555555555555556,
             "#d8576b"
            ],
            [
             0.6666666666666666,
             "#ed7953"
            ],
            [
             0.7777777777777778,
             "#fb9f3a"
            ],
            [
             0.8888888888888888,
             "#fdca26"
            ],
            [
             1,
             "#f0f921"
            ]
           ]
          },
          "colorway": [
           "#636efa",
           "#EF553B",
           "#00cc96",
           "#ab63fa",
           "#FFA15A",
           "#19d3f3",
           "#FF6692",
           "#B6E880",
           "#FF97FF",
           "#FECB52"
          ],
          "font": {
           "color": "#2a3f5f"
          },
          "geo": {
           "bgcolor": "white",
           "lakecolor": "white",
           "landcolor": "#E5ECF6",
           "showlakes": true,
           "showland": true,
           "subunitcolor": "white"
          },
          "hoverlabel": {
           "align": "left"
          },
          "hovermode": "closest",
          "mapbox": {
           "style": "light"
          },
          "paper_bgcolor": "white",
          "plot_bgcolor": "#E5ECF6",
          "polar": {
           "angularaxis": {
            "gridcolor": "white",
            "linecolor": "white",
            "ticks": ""
           },
           "bgcolor": "#E5ECF6",
           "radialaxis": {
            "gridcolor": "white",
            "linecolor": "white",
            "ticks": ""
           }
          },
          "scene": {
           "xaxis": {
            "backgroundcolor": "#E5ECF6",
            "gridcolor": "white",
            "gridwidth": 2,
            "linecolor": "white",
            "showbackground": true,
            "ticks": "",
            "zerolinecolor": "white"
           },
           "yaxis": {
            "backgroundcolor": "#E5ECF6",
            "gridcolor": "white",
            "gridwidth": 2,
            "linecolor": "white",
            "showbackground": true,
            "ticks": "",
            "zerolinecolor": "white"
           },
           "zaxis": {
            "backgroundcolor": "#E5ECF6",
            "gridcolor": "white",
            "gridwidth": 2,
            "linecolor": "white",
            "showbackground": true,
            "ticks": "",
            "zerolinecolor": "white"
           }
          },
          "shapedefaults": {
           "line": {
            "color": "#2a3f5f"
           }
          },
          "ternary": {
           "aaxis": {
            "gridcolor": "white",
            "linecolor": "white",
            "ticks": ""
           },
           "baxis": {
            "gridcolor": "white",
            "linecolor": "white",
            "ticks": ""
           },
           "bgcolor": "#E5ECF6",
           "caxis": {
            "gridcolor": "white",
            "linecolor": "white",
            "ticks": ""
           }
          },
          "title": {
           "x": 0.05
          },
          "xaxis": {
           "automargin": true,
           "gridcolor": "white",
           "linecolor": "white",
           "ticks": "",
           "title": {
            "standoff": 15
           },
           "zerolinecolor": "white",
           "zerolinewidth": 2
          },
          "yaxis": {
           "automargin": true,
           "gridcolor": "white",
           "linecolor": "white",
           "ticks": "",
           "title": {
            "standoff": 15
           },
           "zerolinecolor": "white",
           "zerolinewidth": 2
          }
         }
        },
        "xaxis": {
         "title": {
          "text": "Position"
         },
         "zeroline": false
        },
        "yaxis": {
         "title": {
          "text": "Experience (years)"
         },
         "zeroline": false
        }
       }
      }
     },
     "metadata": {},
     "output_type": "display_data"
    }
   ],
   "source": [
    "# Plot current experience and total experience\n",
    "fig = go.Figure()\n",
    "fig.add_trace(go.Box(\n",
    "    x=salaries['pos'], \n",
    "    y=salaries['curr_exp'],\n",
    "    name='Experience current position',\n",
    "    marker_color='orange'\n",
    "))\n",
    "fig.add_trace(go.Box(\n",
    "    x=salaries['pos'], \n",
    "    y=salaries['total_exp'],\n",
    "    name='Total experience',\n",
    "    marker_color='blue'\n",
    "))\n",
    "\n",
    "fig.update_layout(\n",
    "    xaxis=dict(title='Position', zeroline=False),\n",
    "    yaxis=dict(title='Experience (years)', zeroline=False),\n",
    "    boxmode='group'\n",
    ")\n",
    "\n",
    "fig.show()"
   ]
  },
  {
   "cell_type": "markdown",
   "metadata": {},
   "source": [
    "Here we remove outliers from total/current experience and start/current salary.\n",
    "When using IQR to remove outliers all points that lie outside the range defined by the quartiles +/- 1.5 * IQR.\n",
    " - The outlier formula 1.5 * IQR is a rule of thumb for identifying outliers\n",
    " - Nanpercentile forumula is used since there are some empty cells and it ignores the NaN values. \n",
    " - IQR is done before filling the empty cells to ensure the data that is used to fill the empty cells is not affected by outliers."
   ]
  },
  {
   "cell_type": "code",
   "execution_count": 12,
   "metadata": {},
   "outputs": [
    {
     "data": {
      "text/html": [
       "<div>\n",
       "<style scoped>\n",
       "    .dataframe tbody tr th:only-of-type {\n",
       "        vertical-align: middle;\n",
       "    }\n",
       "\n",
       "    .dataframe tbody tr th {\n",
       "        vertical-align: top;\n",
       "    }\n",
       "\n",
       "    .dataframe thead th {\n",
       "        text-align: right;\n",
       "    }\n",
       "</style>\n",
       "<table border=\"1\" class=\"dataframe\">\n",
       "  <thead>\n",
       "    <tr style=\"text-align: right;\">\n",
       "      <th></th>\n",
       "      <th>start_salary</th>\n",
       "      <th>curr_salary</th>\n",
       "      <th>curr_exp</th>\n",
       "      <th>total_exp</th>\n",
       "      <th>people_managed</th>\n",
       "    </tr>\n",
       "  </thead>\n",
       "  <tbody>\n",
       "    <tr>\n",
       "      <th>count</th>\n",
       "      <td>184.000000</td>\n",
       "      <td>192.000000</td>\n",
       "      <td>185.000000</td>\n",
       "      <td>192.000000</td>\n",
       "      <td>192.000000</td>\n",
       "    </tr>\n",
       "    <tr>\n",
       "      <th>mean</th>\n",
       "      <td>4762.179348</td>\n",
       "      <td>6282.281250</td>\n",
       "      <td>2.757568</td>\n",
       "      <td>7.859896</td>\n",
       "      <td>2.213542</td>\n",
       "    </tr>\n",
       "    <tr>\n",
       "      <th>std</th>\n",
       "      <td>3408.649300</td>\n",
       "      <td>3731.638576</td>\n",
       "      <td>2.869810</td>\n",
       "      <td>5.581477</td>\n",
       "      <td>6.426485</td>\n",
       "    </tr>\n",
       "    <tr>\n",
       "      <th>min</th>\n",
       "      <td>500.000000</td>\n",
       "      <td>550.000000</td>\n",
       "      <td>0.000000</td>\n",
       "      <td>0.000000</td>\n",
       "      <td>0.000000</td>\n",
       "    </tr>\n",
       "    <tr>\n",
       "      <th>25%</th>\n",
       "      <td>2137.500000</td>\n",
       "      <td>4000.000000</td>\n",
       "      <td>1.000000</td>\n",
       "      <td>3.500000</td>\n",
       "      <td>0.000000</td>\n",
       "    </tr>\n",
       "    <tr>\n",
       "      <th>50%</th>\n",
       "      <td>4000.000000</td>\n",
       "      <td>5550.000000</td>\n",
       "      <td>2.000000</td>\n",
       "      <td>7.000000</td>\n",
       "      <td>0.000000</td>\n",
       "    </tr>\n",
       "    <tr>\n",
       "      <th>75%</th>\n",
       "      <td>6500.000000</td>\n",
       "      <td>8000.000000</td>\n",
       "      <td>4.000000</td>\n",
       "      <td>10.000000</td>\n",
       "      <td>2.000000</td>\n",
       "    </tr>\n",
       "    <tr>\n",
       "      <th>max</th>\n",
       "      <td>25000.000000</td>\n",
       "      <td>29000.000000</td>\n",
       "      <td>25.000000</td>\n",
       "      <td>30.000000</td>\n",
       "      <td>56.000000</td>\n",
       "    </tr>\n",
       "  </tbody>\n",
       "</table>\n",
       "</div>"
      ],
      "text/plain": [
       "       start_salary   curr_salary    curr_exp   total_exp  people_managed\n",
       "count    184.000000    192.000000  185.000000  192.000000      192.000000\n",
       "mean    4762.179348   6282.281250    2.757568    7.859896        2.213542\n",
       "std     3408.649300   3731.638576    2.869810    5.581477        6.426485\n",
       "min      500.000000    550.000000    0.000000    0.000000        0.000000\n",
       "25%     2137.500000   4000.000000    1.000000    3.500000        0.000000\n",
       "50%     4000.000000   5550.000000    2.000000    7.000000        0.000000\n",
       "75%     6500.000000   8000.000000    4.000000   10.000000        2.000000\n",
       "max    25000.000000  29000.000000   25.000000   30.000000       56.000000"
      ]
     },
     "execution_count": 12,
     "metadata": {},
     "output_type": "execute_result"
    }
   ],
   "source": [
    "salaries.describe()"
   ]
  },
  {
   "cell_type": "code",
   "execution_count": 13,
   "metadata": {},
   "outputs": [
    {
     "name": "stdout",
     "output_type": "stream",
     "text": [
      "Q1 Start Salary: 2125.0\n",
      "Q3 Start Salary: 6500.0\n",
      "IQR Start Salary: 4375.0\n",
      "UB Start Salary 13062.5\n",
      "LB Start Salary -4437.5\n",
      "Q1 Current Salary: 4000.0\n",
      "Q3 Current Salary: 8000.0\n",
      "IQR Current Salary: 4000.0\n",
      "UB Current Salary: 14000.0\n",
      "LB Current Salary: -2000.0\n",
      "Q1 Current Experience: 1.0\n",
      "Q3 Current Experience: 4.0\n",
      "IQR Current Experience: 3.0\n",
      "UB Current Experience: 8.5\n",
      "LB Current Experience: -3.5\n",
      "Q1 Total Experience: 3.5\n",
      "Q3 Total Experience: 10.0\n",
      "IQR Total Experience: 6.5\n",
      "UB Total Experience: 19.75\n",
      "LB Total Experience: -6.25\n"
     ]
    },
    {
     "data": {
      "text/html": [
       "<div>\n",
       "<style scoped>\n",
       "    .dataframe tbody tr th:only-of-type {\n",
       "        vertical-align: middle;\n",
       "    }\n",
       "\n",
       "    .dataframe tbody tr th {\n",
       "        vertical-align: top;\n",
       "    }\n",
       "\n",
       "    .dataframe thead th {\n",
       "        text-align: right;\n",
       "    }\n",
       "</style>\n",
       "<table border=\"1\" class=\"dataframe\">\n",
       "  <thead>\n",
       "    <tr style=\"text-align: right;\">\n",
       "      <th></th>\n",
       "      <th>start_salary</th>\n",
       "      <th>curr_salary</th>\n",
       "      <th>curr_exp</th>\n",
       "      <th>total_exp</th>\n",
       "      <th>people_managed</th>\n",
       "      <th>pos</th>\n",
       "    </tr>\n",
       "  </thead>\n",
       "  <tbody>\n",
       "    <tr>\n",
       "      <th>0</th>\n",
       "      <td>3800.0</td>\n",
       "      <td>5800.0</td>\n",
       "      <td>2.0</td>\n",
       "      <td>6.0</td>\n",
       "      <td>0</td>\n",
       "      <td>QA</td>\n",
       "    </tr>\n",
       "    <tr>\n",
       "      <th>1</th>\n",
       "      <td>3000.0</td>\n",
       "      <td>9600.0</td>\n",
       "      <td>5.0</td>\n",
       "      <td>8.0</td>\n",
       "      <td>1</td>\n",
       "      <td>Software Developer</td>\n",
       "    </tr>\n",
       "    <tr>\n",
       "      <th>2</th>\n",
       "      <td>9000.0</td>\n",
       "      <td>9000.0</td>\n",
       "      <td>4.0</td>\n",
       "      <td>7.0</td>\n",
       "      <td>0</td>\n",
       "      <td>Software Developer</td>\n",
       "    </tr>\n",
       "    <tr>\n",
       "      <th>3</th>\n",
       "      <td>3400.0</td>\n",
       "      <td>5000.0</td>\n",
       "      <td>2.0</td>\n",
       "      <td>7.0</td>\n",
       "      <td>2</td>\n",
       "      <td>QA</td>\n",
       "    </tr>\n",
       "    <tr>\n",
       "      <th>4</th>\n",
       "      <td>7500.0</td>\n",
       "      <td>10000.0</td>\n",
       "      <td>2.0</td>\n",
       "      <td>8.0</td>\n",
       "      <td>0</td>\n",
       "      <td>Software Developer</td>\n",
       "    </tr>\n",
       "    <tr>\n",
       "      <th>...</th>\n",
       "      <td>...</td>\n",
       "      <td>...</td>\n",
       "      <td>...</td>\n",
       "      <td>...</td>\n",
       "      <td>...</td>\n",
       "      <td>...</td>\n",
       "    </tr>\n",
       "    <tr>\n",
       "      <th>187</th>\n",
       "      <td>1000.0</td>\n",
       "      <td>2000.0</td>\n",
       "      <td>1.5</td>\n",
       "      <td>1.5</td>\n",
       "      <td>0</td>\n",
       "      <td>QA</td>\n",
       "    </tr>\n",
       "    <tr>\n",
       "      <th>188</th>\n",
       "      <td>2200.0</td>\n",
       "      <td>2200.0</td>\n",
       "      <td>0.0</td>\n",
       "      <td>2.0</td>\n",
       "      <td>0</td>\n",
       "      <td>Software Developer</td>\n",
       "    </tr>\n",
       "    <tr>\n",
       "      <th>189</th>\n",
       "      <td>8900.0</td>\n",
       "      <td>9800.0</td>\n",
       "      <td>1.0</td>\n",
       "      <td>15.0</td>\n",
       "      <td>4</td>\n",
       "      <td>Team Lead</td>\n",
       "    </tr>\n",
       "    <tr>\n",
       "      <th>190</th>\n",
       "      <td>1800.0</td>\n",
       "      <td>1800.0</td>\n",
       "      <td>0.0</td>\n",
       "      <td>2.0</td>\n",
       "      <td>0</td>\n",
       "      <td>Software Support</td>\n",
       "    </tr>\n",
       "    <tr>\n",
       "      <th>191</th>\n",
       "      <td>800.0</td>\n",
       "      <td>1600.0</td>\n",
       "      <td>2.0</td>\n",
       "      <td>2.0</td>\n",
       "      <td>0</td>\n",
       "      <td>Software Developer</td>\n",
       "    </tr>\n",
       "  </tbody>\n",
       "</table>\n",
       "<p>192 rows × 6 columns</p>\n",
       "</div>"
      ],
      "text/plain": [
       "     start_salary  curr_salary  curr_exp  total_exp  people_managed  \\\n",
       "0          3800.0       5800.0       2.0        6.0               0   \n",
       "1          3000.0       9600.0       5.0        8.0               1   \n",
       "2          9000.0       9000.0       4.0        7.0               0   \n",
       "3          3400.0       5000.0       2.0        7.0               2   \n",
       "4          7500.0      10000.0       2.0        8.0               0   \n",
       "..            ...          ...       ...        ...             ...   \n",
       "187        1000.0       2000.0       1.5        1.5               0   \n",
       "188        2200.0       2200.0       0.0        2.0               0   \n",
       "189        8900.0       9800.0       1.0       15.0               4   \n",
       "190        1800.0       1800.0       0.0        2.0               0   \n",
       "191         800.0       1600.0       2.0        2.0               0   \n",
       "\n",
       "                    pos  \n",
       "0                    QA  \n",
       "1    Software Developer  \n",
       "2    Software Developer  \n",
       "3                    QA  \n",
       "4    Software Developer  \n",
       "..                  ...  \n",
       "187                  QA  \n",
       "188  Software Developer  \n",
       "189           Team Lead  \n",
       "190    Software Support  \n",
       "191  Software Developer  \n",
       "\n",
       "[192 rows x 6 columns]"
      ]
     },
     "execution_count": 13,
     "metadata": {},
     "output_type": "execute_result"
    }
   ],
   "source": [
    "# START SALARY\n",
    "Q1 = np.nanpercentile(salaries['start_salary'], 25, method='midpoint')\n",
    "Q3 = np.nanpercentile(salaries['start_salary'], 75, method='midpoint')\n",
    "IQR = Q3 - Q1\n",
    "upper_bound = Q3 + (1.5 * IQR)\n",
    "lower_bound = Q1 - (1.5 * IQR)\n",
    "\n",
    "# outlier removal happens here\n",
    "salaries['start_salary'] = salaries.start_salary[(salaries.start_salary < upper_bound) & (salaries.start_salary > lower_bound)]\n",
    "\n",
    "print('Q1 Start Salary:', Q1)\n",
    "print('Q3 Start Salary:', Q3)\n",
    "print('IQR Start Salary:', IQR)\n",
    "print('UB Start Salary', upper_bound)\n",
    "print('LB Start Salary', lower_bound)\n",
    "\n",
    "# CURRENT SALARY\n",
    "Q1 = np.nanpercentile(salaries['curr_salary'], 25, method='midpoint')\n",
    "Q3 = np.nanpercentile(salaries['curr_salary'], 75, method='midpoint')\n",
    "IQR = Q3 - Q1\n",
    "upper_bound = Q3 + (1.5 * IQR)\n",
    "lower_bound = Q1 - (1.5 * IQR)\n",
    "\n",
    "# outlier removal happens here\n",
    "salaries['curr_salary'] = salaries.curr_salary[(salaries.curr_salary < upper_bound) & (salaries.curr_salary > lower_bound)]\n",
    "\n",
    "print('Q1 Current Salary:', Q1)\n",
    "print('Q3 Current Salary:', Q3)\n",
    "print('IQR Current Salary:', IQR)\n",
    "print('UB Current Salary:', upper_bound)\n",
    "print('LB Current Salary:', lower_bound)\n",
    "\n",
    "# CURRENT EXPERIENCE\n",
    "Q1 = np.nanpercentile(salaries['curr_exp'], 25, method='midpoint')\n",
    "Q3 = np.nanpercentile(salaries['curr_exp'], 75, method='midpoint')\n",
    "IQR = Q3 - Q1\n",
    "upper_bound = Q3 + (1.5 * IQR)\n",
    "lower_bound = Q1 - (1.5 * IQR)\n",
    "\n",
    "# outlier removal happens here\n",
    "salaries['curr_exp'] = salaries.curr_exp[(salaries.curr_exp < upper_bound) & (salaries.curr_exp > lower_bound)]\n",
    "\n",
    "print('Q1 Current Experience:', Q1)\n",
    "print('Q3 Current Experience:', Q3)\n",
    "print('IQR Current Experience:', IQR)\n",
    "print('UB Current Experience:', upper_bound)\n",
    "print('LB Current Experience:', lower_bound)\n",
    "\n",
    "# TOTAL EXPERIENCE\n",
    "Q1 = np.nanpercentile(salaries['total_exp'], 25, method='midpoint')\n",
    "Q3 = np.nanpercentile(salaries['total_exp'], 75, method='midpoint')\n",
    "IQR = Q3 - Q1\n",
    "upper_bound = Q3 + (1.5 * IQR)\n",
    "lower_bound = Q1 - (1.5 * IQR)\n",
    "\n",
    "# outlier removal happens here\n",
    "salaries['total_exp'] = salaries.total_exp[(salaries.total_exp < upper_bound) & (salaries.total_exp > lower_bound)]\n",
    "\n",
    "print('Q1 Total Experience:', Q1)\n",
    "print('Q3 Total Experience:', Q3)\n",
    "print('IQR Total Experience:', IQR)\n",
    "print('UB Total Experience:', upper_bound)\n",
    "print('LB Total Experience:', lower_bound)\n",
    "\n",
    "# FIRST RUN\n",
    "# Q1 Start Salary: 2125.0       \n",
    "# Q3 Start Salary: 6500.0       \n",
    "# IQR Start Salary: 4375.0      \n",
    "# UB Start Salary 13062.5       \n",
    "# LB Start Salary -4437.5       \n",
    "# Q1 Current Salary: 4000.0     \n",
    "# Q3 Current Salary: 8000.0     \n",
    "# IQR Current Salary: 4000.0        \n",
    "# UB Current Salary: 14000.0        \n",
    "# LB Current Salary: -2000.0\n",
    "# Q1 Current Experience: 1.0\n",
    "# Q3 Current Experience: 4.0\n",
    "# IQR Current Experience: 3.0\n",
    "# UB Current Experience: 8.5\n",
    "# LB Current Experience: -3.5\n",
    "# Q1 Total Experience: 3.5\n",
    "# Q3 Total Experience: 10.0\n",
    "# IQR Total Experience: 6.5\n",
    "# UB Total Experience: 19.75\n",
    "# LB Total Experience: -6.25\n",
    "\n",
    "\n",
    "#SECOND RUN inclusive\n",
    "# Q1 Start Salary: 2100.0\n",
    "# Q3 Start Salary: 6000.0\n",
    "# IQR Start Salary: 3900.0\n",
    "# UB Start Salary 11850.0\n",
    "# LB Start Salary -3750.0\n",
    "# Q1 Current Salary: 3900.0\n",
    "# Q3 Current Salary: 7650.0\n",
    "# IQR Current Salary: 3750.0\n",
    "# UB Current Salary: 13275.0\n",
    "# LB Current Salary: -1725.0\n",
    "# Q1 Current Experience: 1.0\n",
    "# Q3 Current Experience: 3.0\n",
    "# IQR Current Experience: 2.0\n",
    "# UB Current Experience: 6.0\n",
    "# LB Current Experience: -2.0\n",
    "# Q1 Total Experience: 3.5\n",
    "# Q3 Total Experience: 10.0\n",
    "# IQR Total Experience: 6.5\n",
    "# UB Total Experience: 19.75\n",
    "# LB Total Experience: -6.25\n",
    "\n",
    "#THIRD RUN exclusive\n",
    "# Q1 Start Salary: 2050.0\n",
    "# Q3 Start Salary: 6000.0\n",
    "# IQR Start Salary: 3950.0\n",
    "# UB Start Salary 11925.0\n",
    "# LB Start Salary -3875.0\n",
    "# Q1 Current Salary: 3900.0\n",
    "# Q3 Current Salary: 7650.0\n",
    "# IQR Current Salary: 3750.0\n",
    "# UB Current Salary: 13275.0\n",
    "# LB Current Salary: -1725.0\n",
    "# Q1 Current Experience: 1.0\n",
    "# Q3 Current Experience: 3.0\n",
    "# IQR Current Experience: 2.0\n",
    "# UB Current Experience: 6.0\n",
    "# LB Current Experience: -2.0\n",
    "# Q1 Total Experience: 3.5\n",
    "# Q3 Total Experience: 10.0\n",
    "# IQR Total Experience: 6.5\n",
    "# UB Total Experience: 19.75\n",
    "# LB Total Experience: -6.25\n",
    "\n",
    "\n",
    "\n",
    "salaries"
   ]
  },
  {
   "cell_type": "markdown",
   "metadata": {},
   "source": [
    "### Fix missing values"
   ]
  },
  {
   "cell_type": "markdown",
   "metadata": {},
   "source": [
    "#### Check for missing values"
   ]
  },
  {
   "cell_type": "code",
   "execution_count": 14,
   "metadata": {},
   "outputs": [
    {
     "data": {
      "text/html": [
       "<div>\n",
       "<style scoped>\n",
       "    .dataframe tbody tr th:only-of-type {\n",
       "        vertical-align: middle;\n",
       "    }\n",
       "\n",
       "    .dataframe tbody tr th {\n",
       "        vertical-align: top;\n",
       "    }\n",
       "\n",
       "    .dataframe thead th {\n",
       "        text-align: right;\n",
       "    }\n",
       "</style>\n",
       "<table border=\"1\" class=\"dataframe\">\n",
       "  <thead>\n",
       "    <tr style=\"text-align: right;\">\n",
       "      <th></th>\n",
       "      <th>start_salary</th>\n",
       "      <th>curr_salary</th>\n",
       "      <th>curr_exp</th>\n",
       "      <th>total_exp</th>\n",
       "      <th>people_managed</th>\n",
       "      <th>pos</th>\n",
       "    </tr>\n",
       "  </thead>\n",
       "  <tbody>\n",
       "    <tr>\n",
       "      <th>0</th>\n",
       "      <td>False</td>\n",
       "      <td>False</td>\n",
       "      <td>False</td>\n",
       "      <td>False</td>\n",
       "      <td>False</td>\n",
       "      <td>False</td>\n",
       "    </tr>\n",
       "    <tr>\n",
       "      <th>1</th>\n",
       "      <td>False</td>\n",
       "      <td>False</td>\n",
       "      <td>False</td>\n",
       "      <td>False</td>\n",
       "      <td>False</td>\n",
       "      <td>False</td>\n",
       "    </tr>\n",
       "    <tr>\n",
       "      <th>2</th>\n",
       "      <td>False</td>\n",
       "      <td>False</td>\n",
       "      <td>False</td>\n",
       "      <td>False</td>\n",
       "      <td>False</td>\n",
       "      <td>False</td>\n",
       "    </tr>\n",
       "    <tr>\n",
       "      <th>3</th>\n",
       "      <td>False</td>\n",
       "      <td>False</td>\n",
       "      <td>False</td>\n",
       "      <td>False</td>\n",
       "      <td>False</td>\n",
       "      <td>False</td>\n",
       "    </tr>\n",
       "    <tr>\n",
       "      <th>4</th>\n",
       "      <td>False</td>\n",
       "      <td>False</td>\n",
       "      <td>False</td>\n",
       "      <td>False</td>\n",
       "      <td>False</td>\n",
       "      <td>False</td>\n",
       "    </tr>\n",
       "    <tr>\n",
       "      <th>...</th>\n",
       "      <td>...</td>\n",
       "      <td>...</td>\n",
       "      <td>...</td>\n",
       "      <td>...</td>\n",
       "      <td>...</td>\n",
       "      <td>...</td>\n",
       "    </tr>\n",
       "    <tr>\n",
       "      <th>187</th>\n",
       "      <td>False</td>\n",
       "      <td>False</td>\n",
       "      <td>False</td>\n",
       "      <td>False</td>\n",
       "      <td>False</td>\n",
       "      <td>False</td>\n",
       "    </tr>\n",
       "    <tr>\n",
       "      <th>188</th>\n",
       "      <td>False</td>\n",
       "      <td>False</td>\n",
       "      <td>False</td>\n",
       "      <td>False</td>\n",
       "      <td>False</td>\n",
       "      <td>False</td>\n",
       "    </tr>\n",
       "    <tr>\n",
       "      <th>189</th>\n",
       "      <td>False</td>\n",
       "      <td>False</td>\n",
       "      <td>False</td>\n",
       "      <td>False</td>\n",
       "      <td>False</td>\n",
       "      <td>False</td>\n",
       "    </tr>\n",
       "    <tr>\n",
       "      <th>190</th>\n",
       "      <td>False</td>\n",
       "      <td>False</td>\n",
       "      <td>False</td>\n",
       "      <td>False</td>\n",
       "      <td>False</td>\n",
       "      <td>False</td>\n",
       "    </tr>\n",
       "    <tr>\n",
       "      <th>191</th>\n",
       "      <td>False</td>\n",
       "      <td>False</td>\n",
       "      <td>False</td>\n",
       "      <td>False</td>\n",
       "      <td>False</td>\n",
       "      <td>False</td>\n",
       "    </tr>\n",
       "  </tbody>\n",
       "</table>\n",
       "<p>192 rows × 6 columns</p>\n",
       "</div>"
      ],
      "text/plain": [
       "     start_salary  curr_salary  curr_exp  total_exp  people_managed    pos\n",
       "0           False        False     False      False           False  False\n",
       "1           False        False     False      False           False  False\n",
       "2           False        False     False      False           False  False\n",
       "3           False        False     False      False           False  False\n",
       "4           False        False     False      False           False  False\n",
       "..            ...          ...       ...        ...             ...    ...\n",
       "187         False        False     False      False           False  False\n",
       "188         False        False     False      False           False  False\n",
       "189         False        False     False      False           False  False\n",
       "190         False        False     False      False           False  False\n",
       "191         False        False     False      False           False  False\n",
       "\n",
       "[192 rows x 6 columns]"
      ]
     },
     "execution_count": 14,
     "metadata": {},
     "output_type": "execute_result"
    }
   ],
   "source": [
    "pd.isnull(salaries)"
   ]
  },
  {
   "cell_type": "markdown",
   "metadata": {},
   "source": [
    "#### Show rows where there are missing values"
   ]
  },
  {
   "cell_type": "code",
   "execution_count": 15,
   "metadata": {},
   "outputs": [
    {
     "name": "stdout",
     "output_type": "stream",
     "text": [
      "Rows with missing values: 31\n"
     ]
    },
    {
     "data": {
      "text/html": [
       "<div>\n",
       "<style scoped>\n",
       "    .dataframe tbody tr th:only-of-type {\n",
       "        vertical-align: middle;\n",
       "    }\n",
       "\n",
       "    .dataframe tbody tr th {\n",
       "        vertical-align: top;\n",
       "    }\n",
       "\n",
       "    .dataframe thead th {\n",
       "        text-align: right;\n",
       "    }\n",
       "</style>\n",
       "<table border=\"1\" class=\"dataframe\">\n",
       "  <thead>\n",
       "    <tr style=\"text-align: right;\">\n",
       "      <th></th>\n",
       "      <th>start_salary</th>\n",
       "      <th>curr_salary</th>\n",
       "      <th>curr_exp</th>\n",
       "      <th>total_exp</th>\n",
       "      <th>people_managed</th>\n",
       "      <th>pos</th>\n",
       "    </tr>\n",
       "  </thead>\n",
       "  <tbody>\n",
       "    <tr>\n",
       "      <th>7</th>\n",
       "      <td>550.0</td>\n",
       "      <td>550.0</td>\n",
       "      <td>NaN</td>\n",
       "      <td>0.0</td>\n",
       "      <td>0</td>\n",
       "      <td>QA</td>\n",
       "    </tr>\n",
       "    <tr>\n",
       "      <th>13</th>\n",
       "      <td>NaN</td>\n",
       "      <td>5200.0</td>\n",
       "      <td>NaN</td>\n",
       "      <td>4.0</td>\n",
       "      <td>0</td>\n",
       "      <td>Software Developer</td>\n",
       "    </tr>\n",
       "    <tr>\n",
       "      <th>20</th>\n",
       "      <td>NaN</td>\n",
       "      <td>6500.0</td>\n",
       "      <td>5.0</td>\n",
       "      <td>15.0</td>\n",
       "      <td>5</td>\n",
       "      <td>Data Analytics</td>\n",
       "    </tr>\n",
       "    <tr>\n",
       "      <th>26</th>\n",
       "      <td>9500.0</td>\n",
       "      <td>NaN</td>\n",
       "      <td>4.0</td>\n",
       "      <td>10.0</td>\n",
       "      <td>2</td>\n",
       "      <td>Software Developer</td>\n",
       "    </tr>\n",
       "    <tr>\n",
       "      <th>34</th>\n",
       "      <td>3000.0</td>\n",
       "      <td>3750.0</td>\n",
       "      <td>1.0</td>\n",
       "      <td>NaN</td>\n",
       "      <td>0</td>\n",
       "      <td>Software Developer</td>\n",
       "    </tr>\n",
       "    <tr>\n",
       "      <th>37</th>\n",
       "      <td>12000.0</td>\n",
       "      <td>NaN</td>\n",
       "      <td>8.0</td>\n",
       "      <td>15.0</td>\n",
       "      <td>6</td>\n",
       "      <td>Team Lead</td>\n",
       "    </tr>\n",
       "    <tr>\n",
       "      <th>42</th>\n",
       "      <td>9000.0</td>\n",
       "      <td>10000.0</td>\n",
       "      <td>2.0</td>\n",
       "      <td>NaN</td>\n",
       "      <td>2</td>\n",
       "      <td>Software Developer</td>\n",
       "    </tr>\n",
       "    <tr>\n",
       "      <th>49</th>\n",
       "      <td>NaN</td>\n",
       "      <td>3000.0</td>\n",
       "      <td>NaN</td>\n",
       "      <td>1.0</td>\n",
       "      <td>0</td>\n",
       "      <td>Software Developer</td>\n",
       "    </tr>\n",
       "    <tr>\n",
       "      <th>57</th>\n",
       "      <td>10000.0</td>\n",
       "      <td>NaN</td>\n",
       "      <td>NaN</td>\n",
       "      <td>NaN</td>\n",
       "      <td>56</td>\n",
       "      <td>Software Developer</td>\n",
       "    </tr>\n",
       "    <tr>\n",
       "      <th>63</th>\n",
       "      <td>10000.0</td>\n",
       "      <td>11000.0</td>\n",
       "      <td>2.0</td>\n",
       "      <td>NaN</td>\n",
       "      <td>5</td>\n",
       "      <td>Team Lead</td>\n",
       "    </tr>\n",
       "    <tr>\n",
       "      <th>75</th>\n",
       "      <td>1200.0</td>\n",
       "      <td>8000.0</td>\n",
       "      <td>NaN</td>\n",
       "      <td>10.0</td>\n",
       "      <td>0</td>\n",
       "      <td>Software Developer</td>\n",
       "    </tr>\n",
       "    <tr>\n",
       "      <th>76</th>\n",
       "      <td>1250.0</td>\n",
       "      <td>NaN</td>\n",
       "      <td>2.0</td>\n",
       "      <td>10.0</td>\n",
       "      <td>0</td>\n",
       "      <td>Software Developer</td>\n",
       "    </tr>\n",
       "    <tr>\n",
       "      <th>77</th>\n",
       "      <td>800.0</td>\n",
       "      <td>5500.0</td>\n",
       "      <td>NaN</td>\n",
       "      <td>13.0</td>\n",
       "      <td>0</td>\n",
       "      <td>QA</td>\n",
       "    </tr>\n",
       "    <tr>\n",
       "      <th>78</th>\n",
       "      <td>500.0</td>\n",
       "      <td>1600.0</td>\n",
       "      <td>NaN</td>\n",
       "      <td>10.0</td>\n",
       "      <td>0</td>\n",
       "      <td>обслужващ персонал - Лидл</td>\n",
       "    </tr>\n",
       "    <tr>\n",
       "      <th>84</th>\n",
       "      <td>NaN</td>\n",
       "      <td>6000.0</td>\n",
       "      <td>NaN</td>\n",
       "      <td>9.0</td>\n",
       "      <td>1</td>\n",
       "      <td>Software Developer</td>\n",
       "    </tr>\n",
       "    <tr>\n",
       "      <th>85</th>\n",
       "      <td>1500.0</td>\n",
       "      <td>6200.0</td>\n",
       "      <td>NaN</td>\n",
       "      <td>11.0</td>\n",
       "      <td>4</td>\n",
       "      <td>Software Developer</td>\n",
       "    </tr>\n",
       "    <tr>\n",
       "      <th>89</th>\n",
       "      <td>2000.0</td>\n",
       "      <td>5100.0</td>\n",
       "      <td>NaN</td>\n",
       "      <td>12.0</td>\n",
       "      <td>0</td>\n",
       "      <td>Software Developer</td>\n",
       "    </tr>\n",
       "    <tr>\n",
       "      <th>91</th>\n",
       "      <td>NaN</td>\n",
       "      <td>NaN</td>\n",
       "      <td>6.0</td>\n",
       "      <td>NaN</td>\n",
       "      <td>8</td>\n",
       "      <td>Software Developer</td>\n",
       "    </tr>\n",
       "    <tr>\n",
       "      <th>124</th>\n",
       "      <td>700.0</td>\n",
       "      <td>2800.0</td>\n",
       "      <td>NaN</td>\n",
       "      <td>15.0</td>\n",
       "      <td>0</td>\n",
       "      <td>Software Developer</td>\n",
       "    </tr>\n",
       "    <tr>\n",
       "      <th>127</th>\n",
       "      <td>NaN</td>\n",
       "      <td>6800.0</td>\n",
       "      <td>8.0</td>\n",
       "      <td>8.0</td>\n",
       "      <td>2</td>\n",
       "      <td>Software Developer</td>\n",
       "    </tr>\n",
       "    <tr>\n",
       "      <th>130</th>\n",
       "      <td>NaN</td>\n",
       "      <td>NaN</td>\n",
       "      <td>4.0</td>\n",
       "      <td>14.0</td>\n",
       "      <td>10</td>\n",
       "      <td>Team Lead</td>\n",
       "    </tr>\n",
       "    <tr>\n",
       "      <th>132</th>\n",
       "      <td>2250.0</td>\n",
       "      <td>2250.0</td>\n",
       "      <td>NaN</td>\n",
       "      <td>4.0</td>\n",
       "      <td>0</td>\n",
       "      <td>Software Support</td>\n",
       "    </tr>\n",
       "    <tr>\n",
       "      <th>146</th>\n",
       "      <td>NaN</td>\n",
       "      <td>7200.0</td>\n",
       "      <td>NaN</td>\n",
       "      <td>10.0</td>\n",
       "      <td>0</td>\n",
       "      <td>Software Developer</td>\n",
       "    </tr>\n",
       "    <tr>\n",
       "      <th>147</th>\n",
       "      <td>4200.0</td>\n",
       "      <td>4500.0</td>\n",
       "      <td>3.0</td>\n",
       "      <td>NaN</td>\n",
       "      <td>1</td>\n",
       "      <td>Software Developer</td>\n",
       "    </tr>\n",
       "    <tr>\n",
       "      <th>152</th>\n",
       "      <td>6500.0</td>\n",
       "      <td>7500.0</td>\n",
       "      <td>2.0</td>\n",
       "      <td>NaN</td>\n",
       "      <td>0</td>\n",
       "      <td>QA</td>\n",
       "    </tr>\n",
       "    <tr>\n",
       "      <th>153</th>\n",
       "      <td>5500.0</td>\n",
       "      <td>5500.0</td>\n",
       "      <td>NaN</td>\n",
       "      <td>3.5</td>\n",
       "      <td>0</td>\n",
       "      <td>Software Developer</td>\n",
       "    </tr>\n",
       "    <tr>\n",
       "      <th>161</th>\n",
       "      <td>NaN</td>\n",
       "      <td>6000.0</td>\n",
       "      <td>NaN</td>\n",
       "      <td>5.0</td>\n",
       "      <td>0</td>\n",
       "      <td>Software Developer</td>\n",
       "    </tr>\n",
       "    <tr>\n",
       "      <th>164</th>\n",
       "      <td>2300.0</td>\n",
       "      <td>4300.0</td>\n",
       "      <td>4.0</td>\n",
       "      <td>NaN</td>\n",
       "      <td>0</td>\n",
       "      <td>QA</td>\n",
       "    </tr>\n",
       "    <tr>\n",
       "      <th>165</th>\n",
       "      <td>NaN</td>\n",
       "      <td>NaN</td>\n",
       "      <td>1.5</td>\n",
       "      <td>1.5</td>\n",
       "      <td>0</td>\n",
       "      <td>Software Developer</td>\n",
       "    </tr>\n",
       "    <tr>\n",
       "      <th>169</th>\n",
       "      <td>12000.0</td>\n",
       "      <td>NaN</td>\n",
       "      <td>2.0</td>\n",
       "      <td>8.0</td>\n",
       "      <td>0</td>\n",
       "      <td>Software Developer</td>\n",
       "    </tr>\n",
       "    <tr>\n",
       "      <th>182</th>\n",
       "      <td>NaN</td>\n",
       "      <td>4500.0</td>\n",
       "      <td>5.0</td>\n",
       "      <td>5.0</td>\n",
       "      <td>0</td>\n",
       "      <td>Software Developer</td>\n",
       "    </tr>\n",
       "  </tbody>\n",
       "</table>\n",
       "</div>"
      ],
      "text/plain": [
       "     start_salary  curr_salary  curr_exp  total_exp  people_managed  \\\n",
       "7           550.0        550.0       NaN        0.0               0   \n",
       "13            NaN       5200.0       NaN        4.0               0   \n",
       "20            NaN       6500.0       5.0       15.0               5   \n",
       "26         9500.0          NaN       4.0       10.0               2   \n",
       "34         3000.0       3750.0       1.0        NaN               0   \n",
       "37        12000.0          NaN       8.0       15.0               6   \n",
       "42         9000.0      10000.0       2.0        NaN               2   \n",
       "49            NaN       3000.0       NaN        1.0               0   \n",
       "57        10000.0          NaN       NaN        NaN              56   \n",
       "63        10000.0      11000.0       2.0        NaN               5   \n",
       "75         1200.0       8000.0       NaN       10.0               0   \n",
       "76         1250.0          NaN       2.0       10.0               0   \n",
       "77          800.0       5500.0       NaN       13.0               0   \n",
       "78          500.0       1600.0       NaN       10.0               0   \n",
       "84            NaN       6000.0       NaN        9.0               1   \n",
       "85         1500.0       6200.0       NaN       11.0               4   \n",
       "89         2000.0       5100.0       NaN       12.0               0   \n",
       "91            NaN          NaN       6.0        NaN               8   \n",
       "124         700.0       2800.0       NaN       15.0               0   \n",
       "127           NaN       6800.0       8.0        8.0               2   \n",
       "130           NaN          NaN       4.0       14.0              10   \n",
       "132        2250.0       2250.0       NaN        4.0               0   \n",
       "146           NaN       7200.0       NaN       10.0               0   \n",
       "147        4200.0       4500.0       3.0        NaN               1   \n",
       "152        6500.0       7500.0       2.0        NaN               0   \n",
       "153        5500.0       5500.0       NaN        3.5               0   \n",
       "161           NaN       6000.0       NaN        5.0               0   \n",
       "164        2300.0       4300.0       4.0        NaN               0   \n",
       "165           NaN          NaN       1.5        1.5               0   \n",
       "169       12000.0          NaN       2.0        8.0               0   \n",
       "182           NaN       4500.0       5.0        5.0               0   \n",
       "\n",
       "                           pos  \n",
       "7                           QA  \n",
       "13          Software Developer  \n",
       "20              Data Analytics  \n",
       "26          Software Developer  \n",
       "34          Software Developer  \n",
       "37                   Team Lead  \n",
       "42          Software Developer  \n",
       "49          Software Developer  \n",
       "57          Software Developer  \n",
       "63                   Team Lead  \n",
       "75          Software Developer  \n",
       "76          Software Developer  \n",
       "77                          QA  \n",
       "78   обслужващ персонал - Лидл  \n",
       "84          Software Developer  \n",
       "85          Software Developer  \n",
       "89          Software Developer  \n",
       "91          Software Developer  \n",
       "124         Software Developer  \n",
       "127         Software Developer  \n",
       "130                  Team Lead  \n",
       "132           Software Support  \n",
       "146         Software Developer  \n",
       "147         Software Developer  \n",
       "152                         QA  \n",
       "153         Software Developer  \n",
       "161         Software Developer  \n",
       "164                         QA  \n",
       "165         Software Developer  \n",
       "169         Software Developer  \n",
       "182         Software Developer  "
      ]
     },
     "execution_count": 15,
     "metadata": {},
     "output_type": "execute_result"
    }
   ],
   "source": [
    "num_missing = len(salaries[pd.isnull(salaries).any(axis=1)])\n",
    "\n",
    "print(\"Rows with missing values:\", num_missing)\n",
    "\n",
    "salaries[pd.isnull(salaries).any(axis=1)]"
   ]
  },
  {
   "cell_type": "markdown",
   "metadata": {},
   "source": [
    "There are some missing values.\n",
    "Some of them are a result of removing the outliers.\n",
    "In order to improve accuracy of the data, the cells from start_salary and curr_exp will be filled with the median of all values.\n",
    "Additionally, all faulty cells will be filtered. \n",
    " - Total experience has to be more or equal to experience on current position. \n",
    " - Salary at current position usually is not less than starting salary. \n",
    " - Neither of them can be negative values.\n",
    " - People managed can't be negative. "
   ]
  },
  {
   "cell_type": "markdown",
   "metadata": {},
   "source": [
    "#### Filter faulty cells"
   ]
  },
  {
   "cell_type": "code",
   "execution_count": 16,
   "metadata": {},
   "outputs": [
    {
     "data": {
      "text/html": [
       "<div>\n",
       "<style scoped>\n",
       "    .dataframe tbody tr th:only-of-type {\n",
       "        vertical-align: middle;\n",
       "    }\n",
       "\n",
       "    .dataframe tbody tr th {\n",
       "        vertical-align: top;\n",
       "    }\n",
       "\n",
       "    .dataframe thead th {\n",
       "        text-align: right;\n",
       "    }\n",
       "</style>\n",
       "<table border=\"1\" class=\"dataframe\">\n",
       "  <thead>\n",
       "    <tr style=\"text-align: right;\">\n",
       "      <th></th>\n",
       "      <th>start_salary</th>\n",
       "      <th>curr_salary</th>\n",
       "      <th>curr_exp</th>\n",
       "      <th>total_exp</th>\n",
       "      <th>people_managed</th>\n",
       "      <th>pos</th>\n",
       "    </tr>\n",
       "  </thead>\n",
       "  <tbody>\n",
       "    <tr>\n",
       "      <th>0</th>\n",
       "      <td>3800.0</td>\n",
       "      <td>5800.0</td>\n",
       "      <td>2.0</td>\n",
       "      <td>6.0</td>\n",
       "      <td>0</td>\n",
       "      <td>QA</td>\n",
       "    </tr>\n",
       "    <tr>\n",
       "      <th>1</th>\n",
       "      <td>3000.0</td>\n",
       "      <td>9600.0</td>\n",
       "      <td>5.0</td>\n",
       "      <td>8.0</td>\n",
       "      <td>1</td>\n",
       "      <td>Software Developer</td>\n",
       "    </tr>\n",
       "    <tr>\n",
       "      <th>2</th>\n",
       "      <td>9000.0</td>\n",
       "      <td>9000.0</td>\n",
       "      <td>4.0</td>\n",
       "      <td>7.0</td>\n",
       "      <td>0</td>\n",
       "      <td>Software Developer</td>\n",
       "    </tr>\n",
       "    <tr>\n",
       "      <th>3</th>\n",
       "      <td>3400.0</td>\n",
       "      <td>5000.0</td>\n",
       "      <td>2.0</td>\n",
       "      <td>7.0</td>\n",
       "      <td>2</td>\n",
       "      <td>QA</td>\n",
       "    </tr>\n",
       "    <tr>\n",
       "      <th>4</th>\n",
       "      <td>7500.0</td>\n",
       "      <td>10000.0</td>\n",
       "      <td>2.0</td>\n",
       "      <td>8.0</td>\n",
       "      <td>0</td>\n",
       "      <td>Software Developer</td>\n",
       "    </tr>\n",
       "    <tr>\n",
       "      <th>...</th>\n",
       "      <td>...</td>\n",
       "      <td>...</td>\n",
       "      <td>...</td>\n",
       "      <td>...</td>\n",
       "      <td>...</td>\n",
       "      <td>...</td>\n",
       "    </tr>\n",
       "    <tr>\n",
       "      <th>187</th>\n",
       "      <td>1000.0</td>\n",
       "      <td>2000.0</td>\n",
       "      <td>1.5</td>\n",
       "      <td>1.5</td>\n",
       "      <td>0</td>\n",
       "      <td>QA</td>\n",
       "    </tr>\n",
       "    <tr>\n",
       "      <th>188</th>\n",
       "      <td>2200.0</td>\n",
       "      <td>2200.0</td>\n",
       "      <td>0.0</td>\n",
       "      <td>2.0</td>\n",
       "      <td>0</td>\n",
       "      <td>Software Developer</td>\n",
       "    </tr>\n",
       "    <tr>\n",
       "      <th>189</th>\n",
       "      <td>8900.0</td>\n",
       "      <td>9800.0</td>\n",
       "      <td>1.0</td>\n",
       "      <td>15.0</td>\n",
       "      <td>4</td>\n",
       "      <td>Team Lead</td>\n",
       "    </tr>\n",
       "    <tr>\n",
       "      <th>190</th>\n",
       "      <td>1800.0</td>\n",
       "      <td>1800.0</td>\n",
       "      <td>0.0</td>\n",
       "      <td>2.0</td>\n",
       "      <td>0</td>\n",
       "      <td>Software Support</td>\n",
       "    </tr>\n",
       "    <tr>\n",
       "      <th>191</th>\n",
       "      <td>800.0</td>\n",
       "      <td>1600.0</td>\n",
       "      <td>2.0</td>\n",
       "      <td>2.0</td>\n",
       "      <td>0</td>\n",
       "      <td>Software Developer</td>\n",
       "    </tr>\n",
       "  </tbody>\n",
       "</table>\n",
       "<p>160 rows × 6 columns</p>\n",
       "</div>"
      ],
      "text/plain": [
       "     start_salary  curr_salary  curr_exp  total_exp  people_managed  \\\n",
       "0          3800.0       5800.0       2.0        6.0               0   \n",
       "1          3000.0       9600.0       5.0        8.0               1   \n",
       "2          9000.0       9000.0       4.0        7.0               0   \n",
       "3          3400.0       5000.0       2.0        7.0               2   \n",
       "4          7500.0      10000.0       2.0        8.0               0   \n",
       "..            ...          ...       ...        ...             ...   \n",
       "187        1000.0       2000.0       1.5        1.5               0   \n",
       "188        2200.0       2200.0       0.0        2.0               0   \n",
       "189        8900.0       9800.0       1.0       15.0               4   \n",
       "190        1800.0       1800.0       0.0        2.0               0   \n",
       "191         800.0       1600.0       2.0        2.0               0   \n",
       "\n",
       "                    pos  \n",
       "0                    QA  \n",
       "1    Software Developer  \n",
       "2    Software Developer  \n",
       "3                    QA  \n",
       "4    Software Developer  \n",
       "..                  ...  \n",
       "187                  QA  \n",
       "188  Software Developer  \n",
       "189           Team Lead  \n",
       "190    Software Support  \n",
       "191  Software Developer  \n",
       "\n",
       "[160 rows x 6 columns]"
      ]
     },
     "execution_count": 16,
     "metadata": {},
     "output_type": "execute_result"
    }
   ],
   "source": [
    "salaries_filtered = salaries.copy()\n",
    "\n",
    "#  look more in depth in the data and the cells removed\n",
    "salaries_filtered = salaries[(salaries.curr_exp <= salaries.total_exp) & (salaries.curr_salary != 0) & (salaries.start_salary != 0) & (salaries.start_salary <= salaries.curr_salary)]\n",
    "\n",
    "# df without faulty cells\n",
    "salaries_filtered"
   ]
  },
  {
   "cell_type": "markdown",
   "metadata": {},
   "source": [
    "#### Calculate median and fill empty cells"
   ]
  },
  {
   "cell_type": "code",
   "execution_count": 17,
   "metadata": {},
   "outputs": [
    {
     "name": "stdout",
     "output_type": "stream",
     "text": [
      "Mean start salary: 4520.56875\n",
      "Mean current experience: 2.1931249999999998\n"
     ]
    }
   ],
   "source": [
    "start_salary_mean = salaries_filtered.start_salary.mean()\n",
    "curr_exp_mean = salaries_filtered.curr_exp.mean()\n",
    "\n",
    "print(\"Mean start salary:\", start_salary_mean)\n",
    "print(\"Mean current experience:\", curr_exp_mean)"
   ]
  },
  {
   "cell_type": "code",
   "execution_count": 18,
   "metadata": {},
   "outputs": [],
   "source": [
    "# salaries_filtered.start_salary = salaries_filtered.start_salary.fillna(start_salary_mean)\n",
    "# salaries_filtered.curr_exp = salaries_filtered.curr_exp.fillna(curr_exp_mean)"
   ]
  },
  {
   "cell_type": "markdown",
   "metadata": {},
   "source": [
    "##### Show rows where there are missing values and we can see there are no more missing values"
   ]
  },
  {
   "cell_type": "code",
   "execution_count": 19,
   "metadata": {},
   "outputs": [
    {
     "name": "stdout",
     "output_type": "stream",
     "text": [
      "Number of missing values: 0\n"
     ]
    }
   ],
   "source": [
    "num_missing = len(salaries_filtered[pd.isnull(salaries_filtered).any(axis=1)])\n",
    "print(\"Number of missing values:\", num_missing)"
   ]
  },
  {
   "cell_type": "markdown",
   "metadata": {},
   "source": [
    "### One hot encoding"
   ]
  },
  {
   "cell_type": "markdown",
   "metadata": {},
   "source": [
    "One hot encoding represents each category (job position) as a binary vector. The category is converted to a binary vector where all elements are zero except the index that is marked with a 1. It is suitable for data where the order of categories is not important. Compared to Label encoding where the category is mapped to a continuous number starting from 0 or 1, making the order important.\n"
   ]
  },
  {
   "cell_type": "code",
   "execution_count": 20,
   "metadata": {},
   "outputs": [
    {
     "data": {
      "text/html": [
       "<div>\n",
       "<style scoped>\n",
       "    .dataframe tbody tr th:only-of-type {\n",
       "        vertical-align: middle;\n",
       "    }\n",
       "\n",
       "    .dataframe tbody tr th {\n",
       "        vertical-align: top;\n",
       "    }\n",
       "\n",
       "    .dataframe thead th {\n",
       "        text-align: right;\n",
       "    }\n",
       "</style>\n",
       "<table border=\"1\" class=\"dataframe\">\n",
       "  <thead>\n",
       "    <tr style=\"text-align: right;\">\n",
       "      <th></th>\n",
       "      <th>start_salary</th>\n",
       "      <th>curr_salary</th>\n",
       "      <th>curr_exp</th>\n",
       "      <th>total_exp</th>\n",
       "      <th>people_managed</th>\n",
       "      <th>All in one IT Specialist</th>\n",
       "      <th>Business Analyst</th>\n",
       "      <th>Copywriter</th>\n",
       "      <th>DevOps</th>\n",
       "      <th>Hardware</th>\n",
       "      <th>Networking</th>\n",
       "      <th>QA</th>\n",
       "      <th>Research</th>\n",
       "      <th>Security</th>\n",
       "      <th>Software Developer</th>\n",
       "      <th>Software Engineer</th>\n",
       "      <th>Software Support</th>\n",
       "      <th>Team Lead</th>\n",
       "      <th>UI/UX Designer</th>\n",
       "    </tr>\n",
       "  </thead>\n",
       "  <tbody>\n",
       "    <tr>\n",
       "      <th>0</th>\n",
       "      <td>3800.0</td>\n",
       "      <td>5800.0</td>\n",
       "      <td>2.0</td>\n",
       "      <td>6.0</td>\n",
       "      <td>0</td>\n",
       "      <td>False</td>\n",
       "      <td>False</td>\n",
       "      <td>False</td>\n",
       "      <td>False</td>\n",
       "      <td>False</td>\n",
       "      <td>False</td>\n",
       "      <td>True</td>\n",
       "      <td>False</td>\n",
       "      <td>False</td>\n",
       "      <td>False</td>\n",
       "      <td>False</td>\n",
       "      <td>False</td>\n",
       "      <td>False</td>\n",
       "      <td>False</td>\n",
       "    </tr>\n",
       "    <tr>\n",
       "      <th>1</th>\n",
       "      <td>3000.0</td>\n",
       "      <td>9600.0</td>\n",
       "      <td>5.0</td>\n",
       "      <td>8.0</td>\n",
       "      <td>1</td>\n",
       "      <td>False</td>\n",
       "      <td>False</td>\n",
       "      <td>False</td>\n",
       "      <td>False</td>\n",
       "      <td>False</td>\n",
       "      <td>False</td>\n",
       "      <td>False</td>\n",
       "      <td>False</td>\n",
       "      <td>False</td>\n",
       "      <td>True</td>\n",
       "      <td>False</td>\n",
       "      <td>False</td>\n",
       "      <td>False</td>\n",
       "      <td>False</td>\n",
       "    </tr>\n",
       "    <tr>\n",
       "      <th>2</th>\n",
       "      <td>9000.0</td>\n",
       "      <td>9000.0</td>\n",
       "      <td>4.0</td>\n",
       "      <td>7.0</td>\n",
       "      <td>0</td>\n",
       "      <td>False</td>\n",
       "      <td>False</td>\n",
       "      <td>False</td>\n",
       "      <td>False</td>\n",
       "      <td>False</td>\n",
       "      <td>False</td>\n",
       "      <td>False</td>\n",
       "      <td>False</td>\n",
       "      <td>False</td>\n",
       "      <td>True</td>\n",
       "      <td>False</td>\n",
       "      <td>False</td>\n",
       "      <td>False</td>\n",
       "      <td>False</td>\n",
       "    </tr>\n",
       "    <tr>\n",
       "      <th>3</th>\n",
       "      <td>3400.0</td>\n",
       "      <td>5000.0</td>\n",
       "      <td>2.0</td>\n",
       "      <td>7.0</td>\n",
       "      <td>2</td>\n",
       "      <td>False</td>\n",
       "      <td>False</td>\n",
       "      <td>False</td>\n",
       "      <td>False</td>\n",
       "      <td>False</td>\n",
       "      <td>False</td>\n",
       "      <td>True</td>\n",
       "      <td>False</td>\n",
       "      <td>False</td>\n",
       "      <td>False</td>\n",
       "      <td>False</td>\n",
       "      <td>False</td>\n",
       "      <td>False</td>\n",
       "      <td>False</td>\n",
       "    </tr>\n",
       "    <tr>\n",
       "      <th>4</th>\n",
       "      <td>7500.0</td>\n",
       "      <td>10000.0</td>\n",
       "      <td>2.0</td>\n",
       "      <td>8.0</td>\n",
       "      <td>0</td>\n",
       "      <td>False</td>\n",
       "      <td>False</td>\n",
       "      <td>False</td>\n",
       "      <td>False</td>\n",
       "      <td>False</td>\n",
       "      <td>False</td>\n",
       "      <td>False</td>\n",
       "      <td>False</td>\n",
       "      <td>False</td>\n",
       "      <td>True</td>\n",
       "      <td>False</td>\n",
       "      <td>False</td>\n",
       "      <td>False</td>\n",
       "      <td>False</td>\n",
       "    </tr>\n",
       "    <tr>\n",
       "      <th>...</th>\n",
       "      <td>...</td>\n",
       "      <td>...</td>\n",
       "      <td>...</td>\n",
       "      <td>...</td>\n",
       "      <td>...</td>\n",
       "      <td>...</td>\n",
       "      <td>...</td>\n",
       "      <td>...</td>\n",
       "      <td>...</td>\n",
       "      <td>...</td>\n",
       "      <td>...</td>\n",
       "      <td>...</td>\n",
       "      <td>...</td>\n",
       "      <td>...</td>\n",
       "      <td>...</td>\n",
       "      <td>...</td>\n",
       "      <td>...</td>\n",
       "      <td>...</td>\n",
       "      <td>...</td>\n",
       "    </tr>\n",
       "    <tr>\n",
       "      <th>187</th>\n",
       "      <td>1000.0</td>\n",
       "      <td>2000.0</td>\n",
       "      <td>1.5</td>\n",
       "      <td>1.5</td>\n",
       "      <td>0</td>\n",
       "      <td>False</td>\n",
       "      <td>False</td>\n",
       "      <td>False</td>\n",
       "      <td>False</td>\n",
       "      <td>False</td>\n",
       "      <td>False</td>\n",
       "      <td>True</td>\n",
       "      <td>False</td>\n",
       "      <td>False</td>\n",
       "      <td>False</td>\n",
       "      <td>False</td>\n",
       "      <td>False</td>\n",
       "      <td>False</td>\n",
       "      <td>False</td>\n",
       "    </tr>\n",
       "    <tr>\n",
       "      <th>188</th>\n",
       "      <td>2200.0</td>\n",
       "      <td>2200.0</td>\n",
       "      <td>0.0</td>\n",
       "      <td>2.0</td>\n",
       "      <td>0</td>\n",
       "      <td>False</td>\n",
       "      <td>False</td>\n",
       "      <td>False</td>\n",
       "      <td>False</td>\n",
       "      <td>False</td>\n",
       "      <td>False</td>\n",
       "      <td>False</td>\n",
       "      <td>False</td>\n",
       "      <td>False</td>\n",
       "      <td>True</td>\n",
       "      <td>False</td>\n",
       "      <td>False</td>\n",
       "      <td>False</td>\n",
       "      <td>False</td>\n",
       "    </tr>\n",
       "    <tr>\n",
       "      <th>189</th>\n",
       "      <td>8900.0</td>\n",
       "      <td>9800.0</td>\n",
       "      <td>1.0</td>\n",
       "      <td>15.0</td>\n",
       "      <td>4</td>\n",
       "      <td>False</td>\n",
       "      <td>False</td>\n",
       "      <td>False</td>\n",
       "      <td>False</td>\n",
       "      <td>False</td>\n",
       "      <td>False</td>\n",
       "      <td>False</td>\n",
       "      <td>False</td>\n",
       "      <td>False</td>\n",
       "      <td>False</td>\n",
       "      <td>False</td>\n",
       "      <td>False</td>\n",
       "      <td>True</td>\n",
       "      <td>False</td>\n",
       "    </tr>\n",
       "    <tr>\n",
       "      <th>190</th>\n",
       "      <td>1800.0</td>\n",
       "      <td>1800.0</td>\n",
       "      <td>0.0</td>\n",
       "      <td>2.0</td>\n",
       "      <td>0</td>\n",
       "      <td>False</td>\n",
       "      <td>False</td>\n",
       "      <td>False</td>\n",
       "      <td>False</td>\n",
       "      <td>False</td>\n",
       "      <td>False</td>\n",
       "      <td>False</td>\n",
       "      <td>False</td>\n",
       "      <td>False</td>\n",
       "      <td>False</td>\n",
       "      <td>False</td>\n",
       "      <td>True</td>\n",
       "      <td>False</td>\n",
       "      <td>False</td>\n",
       "    </tr>\n",
       "    <tr>\n",
       "      <th>191</th>\n",
       "      <td>800.0</td>\n",
       "      <td>1600.0</td>\n",
       "      <td>2.0</td>\n",
       "      <td>2.0</td>\n",
       "      <td>0</td>\n",
       "      <td>False</td>\n",
       "      <td>False</td>\n",
       "      <td>False</td>\n",
       "      <td>False</td>\n",
       "      <td>False</td>\n",
       "      <td>False</td>\n",
       "      <td>False</td>\n",
       "      <td>False</td>\n",
       "      <td>False</td>\n",
       "      <td>True</td>\n",
       "      <td>False</td>\n",
       "      <td>False</td>\n",
       "      <td>False</td>\n",
       "      <td>False</td>\n",
       "    </tr>\n",
       "  </tbody>\n",
       "</table>\n",
       "<p>160 rows × 19 columns</p>\n",
       "</div>"
      ],
      "text/plain": [
       "     start_salary  curr_salary  curr_exp  total_exp  people_managed  \\\n",
       "0          3800.0       5800.0       2.0        6.0               0   \n",
       "1          3000.0       9600.0       5.0        8.0               1   \n",
       "2          9000.0       9000.0       4.0        7.0               0   \n",
       "3          3400.0       5000.0       2.0        7.0               2   \n",
       "4          7500.0      10000.0       2.0        8.0               0   \n",
       "..            ...          ...       ...        ...             ...   \n",
       "187        1000.0       2000.0       1.5        1.5               0   \n",
       "188        2200.0       2200.0       0.0        2.0               0   \n",
       "189        8900.0       9800.0       1.0       15.0               4   \n",
       "190        1800.0       1800.0       0.0        2.0               0   \n",
       "191         800.0       1600.0       2.0        2.0               0   \n",
       "\n",
       "     All in one IT Specialist  Business Analyst  Copywriter  DevOps  Hardware  \\\n",
       "0                       False             False       False   False     False   \n",
       "1                       False             False       False   False     False   \n",
       "2                       False             False       False   False     False   \n",
       "3                       False             False       False   False     False   \n",
       "4                       False             False       False   False     False   \n",
       "..                        ...               ...         ...     ...       ...   \n",
       "187                     False             False       False   False     False   \n",
       "188                     False             False       False   False     False   \n",
       "189                     False             False       False   False     False   \n",
       "190                     False             False       False   False     False   \n",
       "191                     False             False       False   False     False   \n",
       "\n",
       "     Networking     QA  Research  Security  Software Developer  \\\n",
       "0         False   True     False     False               False   \n",
       "1         False  False     False     False                True   \n",
       "2         False  False     False     False                True   \n",
       "3         False   True     False     False               False   \n",
       "4         False  False     False     False                True   \n",
       "..          ...    ...       ...       ...                 ...   \n",
       "187       False   True     False     False               False   \n",
       "188       False  False     False     False                True   \n",
       "189       False  False     False     False               False   \n",
       "190       False  False     False     False               False   \n",
       "191       False  False     False     False                True   \n",
       "\n",
       "     Software Engineer   Software Support  Team Lead  UI/UX Designer  \n",
       "0                 False             False      False           False  \n",
       "1                 False             False      False           False  \n",
       "2                 False             False      False           False  \n",
       "3                 False             False      False           False  \n",
       "4                 False             False      False           False  \n",
       "..                  ...               ...        ...             ...  \n",
       "187               False             False      False           False  \n",
       "188               False             False      False           False  \n",
       "189               False             False       True           False  \n",
       "190               False              True      False           False  \n",
       "191               False             False      False           False  \n",
       "\n",
       "[160 rows x 19 columns]"
      ]
     },
     "execution_count": 20,
     "metadata": {},
     "output_type": "execute_result"
    }
   ],
   "source": [
    "salaries_dummies = pd.get_dummies(salaries_filtered.pos)\n",
    "salaries_merged = pd.concat([salaries_filtered, salaries_dummies], axis = 1)\n",
    "salaries_merged.head()\n",
    "\n",
    "salaries_encoded = salaries_merged.drop(['pos'], axis=1)\n",
    "salaries_encoded"
   ]
  },
  {
   "cell_type": "markdown",
   "metadata": {},
   "source": [
    "## Visualize data"
   ]
  },
  {
   "cell_type": "markdown",
   "metadata": {},
   "source": [
    "### Plotting relations between columns"
   ]
  },
  {
   "cell_type": "markdown",
   "metadata": {},
   "source": [
    "#### Relationship between Total Experience and Current Salary"
   ]
  },
  {
   "cell_type": "code",
   "execution_count": 21,
   "metadata": {},
   "outputs": [
    {
     "data": {
      "text/plain": [
       "Text(0.5, 1.0, 'Relationship between Total Experience and Current Salary')"
      ]
     },
     "execution_count": 21,
     "metadata": {},
     "output_type": "execute_result"
    },
    {
     "data": {
      "image/png": "[encoded data removed]",
      "text/plain": [
       "<Figure size 640x480 with 1 Axes>"
      ]
     },
     "metadata": {},
     "output_type": "display_data"
    }
   ],
   "source": [
    "sns.regplot(x=salaries_encoded.total_exp, \n",
    "            y=salaries_encoded.curr_salary, \n",
    "            line_kws={\"color\":\"r\",\"alpha\":0.7,\"lw\":4}, \n",
    "            marker='+')\n",
    "\n",
    "plt.xlabel('Experience (years)')\n",
    "plt.ylabel('Salary (BGN, netto)')\n",
    "plt.title('Relationship between Total Experience and Current Salary')"
   ]
  },
  {
   "cell_type": "markdown",
   "metadata": {},
   "source": [
    " - Salary tends to increase with Total experience "
   ]
  },
  {
   "cell_type": "markdown",
   "metadata": {},
   "source": [
    "#### Relationship between Current Experience and Current Salary"
   ]
  },
  {
   "cell_type": "code",
   "execution_count": 22,
   "metadata": {},
   "outputs": [
    {
     "data": {
      "text/plain": [
       "Text(0.5, 1.0, 'Relationship between Current Experience and Current Salary')"
      ]
     },
     "execution_count": 22,
     "metadata": {},
     "output_type": "execute_result"
    },
    {
     "data": {
      "image/png": "[encoded data removed]",
      "text/plain": [
       "<Figure size 640x480 with 1 Axes>"
      ]
     },
     "metadata": {},
     "output_type": "display_data"
    }
   ],
   "source": [
    "sns.regplot(x=salaries_encoded.curr_exp, \n",
    "            y=salaries_encoded.curr_salary, \n",
    "            line_kws={\"color\":\"r\",\"alpha\":0.7,\"lw\":4}, \n",
    "            marker='+')\n",
    "\n",
    "plt.xlabel('Current Experience (years)')\n",
    "plt.ylabel('Salary (BGN, netto)')\n",
    "plt.title('Relationship between Current Experience and Current Salary')\n",
    "# distinguish positions"
   ]
  },
  {
   "cell_type": "markdown",
   "metadata": {},
   "source": [
    " - Salary does not tend to increase much by gaining experience on current work place"
   ]
  },
  {
   "cell_type": "markdown",
   "metadata": {},
   "source": [
    "#### Correlation heatmap"
   ]
  },
  {
   "cell_type": "code",
   "execution_count": 23,
   "metadata": {},
   "outputs": [
    {
     "data": {
      "image/png": "[encoded data removed]",
      "text/plain": [
       "<Figure size 640x480 with 2 Axes>"
      ]
     },
     "metadata": {},
     "output_type": "display_data"
    }
   ],
   "source": [
    "cols = ['start_salary', 'curr_salary', 'curr_exp', 'total_exp', 'people_managed']\n",
    "cm = np.corrcoef(salaries_encoded[cols].values, rowvar=0)\n",
    "sns.set(font_scale=1.5)\n",
    "hm = sns.heatmap(cm,\n",
    "    cbar=True,\n",
    "    annot=True,\n",
    "    square=True,\n",
    "    fmt='.2f',\n",
    "    annot_kws={'size': 15},\n",
    "    yticklabels=cols,\n",
    "    xticklabels=cols)\n",
    "plt.title('Correlation between columns')\n",
    "plt.show()"
   ]
  },
  {
   "cell_type": "markdown",
   "metadata": {},
   "source": [
    " - Total Experience has a positive correlation with the Start Salary and Current Salary\n",
    " - Current Experience has a negative correlation with the Start Salary (as we saw earlier the salary tends to increase with experience)\n",
    " - People Managed has a positive correlation with the Total Experience"
   ]
  },
  {
   "cell_type": "markdown",
   "metadata": {},
   "source": [
    "## Train Model"
   ]
  },
  {
   "cell_type": "markdown",
   "metadata": {},
   "source": [
    "### Split dataset"
   ]
  },
  {
   "cell_type": "code",
   "execution_count": 24,
   "metadata": {},
   "outputs": [
    {
     "data": {
      "text/plain": [
       "19"
      ]
     },
     "execution_count": 24,
     "metadata": {},
     "output_type": "execute_result"
    }
   ],
   "source": [
    "# Get dataset columns\n",
    "len(salaries_encoded.columns)"
   ]
  },
  {
   "cell_type": "code",
   "execution_count": 25,
   "metadata": {},
   "outputs": [],
   "source": [
    "from sklearn.model_selection import train_test_split\n",
    "\n",
    "X_train, X_test, y_train, y_test = train_test_split(\n",
    "        salaries_encoded[['start_salary', 'curr_exp', 'total_exp',\n",
    "            'people_managed', 'All in one IT Specialist', 'Business Analyst',\n",
    "            'Copywriter', 'DevOps', 'Hardware', 'Networking', 'QA', 'Research',\n",
    "            'Security', 'Software Developer', 'Software Engineer ',\n",
    "            'Software Support', 'Team Lead', 'UI/UX Designer']].values,\n",
    "        salaries_encoded.curr_salary.values,\n",
    "        test_size=0.3,\n",
    "        random_state=42\n",
    "    )\n"
   ]
  },
  {
   "cell_type": "markdown",
   "metadata": {},
   "source": [
    "### Fit model"
   ]
  },
  {
   "cell_type": "code",
   "execution_count": 26,
   "metadata": {},
   "outputs": [
    {
     "data": {
      "text/html": [
       "<style>#sk-container-id-1 {color: black;}#sk-container-id-1 pre{padding: 0;}#sk-container-id-1 div.sk-toggleable {background-color: white;}#sk-container-id-1 label.sk-toggleable__label {cursor: pointer;display: block;width: 100%;margin-bottom: 0;padding: 0.3em;box-sizing: border-box;text-align: center;}#sk-container-id-1 label.sk-toggleable__label-arrow:before {content: \"▸\";float: left;margin-right: 0.25em;color: #696969;}#sk-container-id-1 label.sk-toggleable__label-arrow:hover:before {color: black;}#sk-container-id-1 div.sk-estimator:hover label.sk-toggleable__label-arrow:before {color: black;}#sk-container-id-1 div.sk-toggleable__content {max-height: 0;max-width: 0;overflow: hidden;text-align: left;background-color: #f0f8ff;}#sk-container-id-1 div.sk-toggleable__content pre {margin: 0.2em;color: black;border-radius: 0.25em;background-color: #f0f8ff;}#sk-container-id-1 input.sk-toggleable__control:checked~div.sk-toggleable__content {max-height: 200px;max-width: 100%;overflow: auto;}#sk-container-id-1 input.sk-toggleable__control:checked~label.sk-toggleable__label-arrow:before {content: \"▾\";}#sk-container-id-1 div.sk-estimator input.sk-toggleable__control:checked~label.sk-toggleable__label {background-color: #d4ebff;}#sk-container-id-1 div.sk-label input.sk-toggleable__control:checked~label.sk-toggleable__label {background-color: #d4ebff;}#sk-container-id-1 input.sk-hidden--visually {border: 0;clip: rect(1px 1px 1px 1px);clip: rect(1px, 1px, 1px, 1px);height: 1px;margin: -1px;overflow: hidden;padding: 0;position: absolute;width: 1px;}#sk-container-id-1 div.sk-estimator {font-family: monospace;background-color: #f0f8ff;border: 1px dotted black;border-radius: 0.25em;box-sizing: border-box;margin-bottom: 0.5em;}#sk-container-id-1 div.sk-estimator:hover {background-color: #d4ebff;}#sk-container-id-1 div.sk-parallel-item::after {content: \"\";width: 100%;border-bottom: 1px solid gray;flex-grow: 1;}#sk-container-id-1 div.sk-label:hover label.sk-toggleable__label {background-color: #d4ebff;}#sk-container-id-1 div.sk-serial::before {content: \"\";position: absolute;border-left: 1px solid gray;box-sizing: border-box;top: 0;bottom: 0;left: 50%;z-index: 0;}#sk-container-id-1 div.sk-serial {display: flex;flex-direction: column;align-items: center;background-color: white;padding-right: 0.2em;padding-left: 0.2em;position: relative;}#sk-container-id-1 div.sk-item {position: relative;z-index: 1;}#sk-container-id-1 div.sk-parallel {display: flex;align-items: stretch;justify-content: center;background-color: white;position: relative;}#sk-container-id-1 div.sk-item::before, #sk-container-id-1 div.sk-parallel-item::before {content: \"\";position: absolute;border-left: 1px solid gray;box-sizing: border-box;top: 0;bottom: 0;left: 50%;z-index: -1;}#sk-container-id-1 div.sk-parallel-item {display: flex;flex-direction: column;z-index: 1;position: relative;background-color: white;}#sk-container-id-1 div.sk-parallel-item:first-child::after {align-self: flex-end;width: 50%;}#sk-container-id-1 div.sk-parallel-item:last-child::after {align-self: flex-start;width: 50%;}#sk-container-id-1 div.sk-parallel-item:only-child::after {width: 0;}#sk-container-id-1 div.sk-dashed-wrapped {border: 1px dashed gray;margin: 0 0.4em 0.5em 0.4em;box-sizing: border-box;padding-bottom: 0.4em;background-color: white;}#sk-container-id-1 div.sk-label label {font-family: monospace;font-weight: bold;display: inline-block;line-height: 1.2em;}#sk-container-id-1 div.sk-label-container {text-align: center;}#sk-container-id-1 div.sk-container {/* jupyter's `normalize.less` sets `[hidden] { display: none; }` but bootstrap.min.css set `[hidden] { display: none !important; }` so we also need the `!important` here to be able to override the default hidden behavior on the sphinx rendered scikit-learn.org. See: https://github.com/scikit-learn/scikit-learn/issues/21755 */display: inline-block !important;position: relative;}#sk-container-id-1 div.sk-text-repr-fallback {display: none;}</style><div id=\"sk-container-id-1\" class=\"sk-top-container\"><div class=\"sk-text-repr-fallback\"><pre>LinearRegression()</pre><b>In a Jupyter environment, please rerun this cell to show the HTML representation or trust the notebook. <br />On GitHub, the HTML representation is unable to render, please try loading this page with nbviewer.org.</b></div><div class=\"sk-container\" hidden><div class=\"sk-item\"><div class=\"sk-estimator sk-toggleable\"><input class=\"sk-toggleable__control sk-hidden--visually\" id=\"sk-estimator-id-1\" type=\"checkbox\" checked><label for=\"sk-estimator-id-1\" class=\"sk-toggleable__label sk-toggleable__label-arrow\">LinearRegression</label><div class=\"sk-toggleable__content\"><pre>LinearRegression()</pre></div></div></div></div></div>"
      ],
      "text/plain": [
       "LinearRegression()"
      ]
     },
     "execution_count": 26,
     "metadata": {},
     "output_type": "execute_result"
    }
   ],
   "source": [
    "from sklearn.linear_model import LinearRegression\n",
    "\n",
    "regression = LinearRegression()\n",
    "regression.fit(X_train, y_train)"
   ]
  },
  {
   "cell_type": "markdown",
   "metadata": {},
   "source": [
    "#### Predict using model"
   ]
  },
  {
   "cell_type": "markdown",
   "metadata": {},
   "source": [
    "Make predictions using the train and test datasets. Will be used for evaluation."
   ]
  },
  {
   "cell_type": "code",
   "execution_count": 27,
   "metadata": {},
   "outputs": [],
   "source": [
    "# Predict using train features\n",
    "y_train_pred = regression.predict(X_train)\n",
    "\n",
    "# Predict using test features\n",
    "y_test_pred = regression.predict(X_test)"
   ]
  },
  {
   "cell_type": "markdown",
   "metadata": {},
   "source": [
    "#### Slope and intercept"
   ]
  },
  {
   "cell_type": "markdown",
   "metadata": {},
   "source": [
    " - Slope (coefficient) - change in target variable for a one-unit change in the feature\n",
    " - Intercept - value of target variable when feature is 0"
   ]
  },
  {
   "cell_type": "code",
   "execution_count": 28,
   "metadata": {},
   "outputs": [
    {
     "data": {
      "text/plain": [
       "array([ 9.25490321e-01,  4.24188170e+02, -2.34235334e+01,  1.54408444e+01,\n",
       "        3.46117226e+01,  4.01964098e+00, -1.72621930e+03, -1.01097837e+02,\n",
       "        7.56117412e+02, -3.99207813e+02,  1.54237672e+02,  5.68434189e-14,\n",
       "       -5.68434189e-14,  4.29870780e+02, -7.28216549e+01, -2.05932455e+02,\n",
       "        1.12642183e+03,  0.00000000e+00])"
      ]
     },
     "execution_count": 28,
     "metadata": {},
     "output_type": "execute_result"
    }
   ],
   "source": [
    "regression.coef_"
   ]
  },
  {
   "cell_type": "code",
   "execution_count": 29,
   "metadata": {},
   "outputs": [
    {
     "data": {
      "text/plain": [
       "413.9489918665822"
      ]
     },
     "execution_count": 29,
     "metadata": {},
     "output_type": "execute_result"
    }
   ],
   "source": [
    "regression.intercept_"
   ]
  },
  {
   "cell_type": "markdown",
   "metadata": {},
   "source": [
    "#### Manually test"
   ]
  },
  {
   "cell_type": "code",
   "execution_count": 30,
   "metadata": {},
   "outputs": [
    {
     "name": "stdout",
     "output_type": "stream",
     "text": [
      "Predicted current salary as a Software Engineer with 2000 BGN starting salary, \n",
      "1 year experience at current position and 2 years of total experience:\n",
      "2569.45 BGN\n"
     ]
    }
   ],
   "source": [
    "            # 'start_salary', 'curr_exp', 'total_exp', 'people_managed', 'All in one IT Specialist',\n",
    "            # 'Business Analyst', 'Copywriter', 'DevOps', 'Hardware', 'Networking', \n",
    "            # 'QA', 'Research', 'Security', 'Software Developer', 'Software Engineer ',\n",
    "            # 'Software Support', 'Team Lead', 'UI/UX Designer'\n",
    "manual_prediction = regression.predict([[\n",
    "                    2000, 1, 2, 0, 0, \n",
    "                    0, 0, 0, 0, 0, \n",
    "                    0, 0, 0, 0, 1,\n",
    "                    0, 0, 0\n",
    "                    ]])\n",
    "\n",
    "print('Predicted current salary as a Software Engineer with 2000 BGN starting salary, \\n1 year experience at current position and 2 years of total experience:\\n%.2f BGN' % manual_prediction )\n",
    "# investigate new models"
   ]
  },
  {
   "cell_type": "markdown",
   "metadata": {},
   "source": [
    "## Evaluate Model"
   ]
  },
  {
   "cell_type": "markdown",
   "metadata": {},
   "source": [
    "### Mean Squared Error"
   ]
  },
  {
   "cell_type": "code",
   "execution_count": 31,
   "metadata": {},
   "outputs": [
    {
     "name": "stdout",
     "output_type": "stream",
     "text": [
      "MSE Train:  1014617.8131885986\n",
      "MSE Test:  1351767.3339991868\n"
     ]
    }
   ],
   "source": [
    "from sklearn.metrics import mean_squared_error\n",
    "mse_train = mean_squared_error(y_train, y_train_pred)\n",
    "mse_test = mean_squared_error(y_test, y_test_pred)\n",
    "\n",
    "print('MSE Train: ', mse_train)\n",
    "print('MSE Test: ', mse_test)"
   ]
  },
  {
   "cell_type": "markdown",
   "metadata": {},
   "source": [
    "Mean squared error is such a high number because the predicted values are in the thousands (salary)."
   ]
  },
  {
   "cell_type": "markdown",
   "metadata": {},
   "source": [
    "### R2 Score"
   ]
  },
  {
   "cell_type": "code",
   "execution_count": 32,
   "metadata": {},
   "outputs": [
    {
     "name": "stdout",
     "output_type": "stream",
     "text": [
      "R^2 Score:  0.7784895806637957\n"
     ]
    }
   ],
   "source": [
    "r2_score = regression.score(X_test, y_test)\n",
    "print('R^2 Score: ', r2_score)"
   ]
  },
  {
   "cell_type": "markdown",
   "metadata": {},
   "source": [
    "I think to increase the score, i can reduce the job positions or collect more data samples with the current ones. Since now it is more biased towards Software Development and Engineering."
   ]
  },
  {
   "cell_type": "markdown",
   "metadata": {},
   "source": [
    "### Plot results"
   ]
  },
  {
   "cell_type": "code",
   "execution_count": 33,
   "metadata": {},
   "outputs": [
    {
     "data": {
      "image/png": "[encoded data removed]",
      "text/plain": [
       "<Figure size 640x480 with 1 Axes>"
      ]
     },
     "metadata": {},
     "output_type": "display_data"
    }
   ],
   "source": [
    "plt.scatter(y_train, y_train_pred)\n",
    "plt.plot([min(y_train), max(y_train)], [min(y_train), max(y_train)], linestyle='-', color='red', linewidth=2)\n",
    "plt.xlabel('Actual values')\n",
    "plt.ylabel('Predicted values')\n",
    "plt.title('Actual vs. Predicted (Train)')\n",
    "plt.show()"
   ]
  },
  {
   "cell_type": "code",
   "execution_count": 34,
   "metadata": {},
   "outputs": [
    {
     "data": {
      "image/png": "[encoded data removed]",
      "text/plain": [
       "<Figure size 640x480 with 1 Axes>"
      ]
     },
     "metadata": {},
     "output_type": "display_data"
    }
   ],
   "source": [
    "plt.scatter(y_test, y_test_pred)\n",
    "plt.plot([min(y_test), max(y_test)], [min(y_test), max(y_test)], linestyle='-', color='red', linewidth=2)\n",
    "plt.xlabel('Actual values')\n",
    "plt.ylabel('Predicted values')\n",
    "plt.title('Actual vs. Predicted (Test)')\n",
    "plt.show()"
   ]
  },
  {
   "cell_type": "markdown",
   "metadata": {},
   "source": [
    "## Export Model"
   ]
  },
  {
   "cell_type": "code",
   "execution_count": 340,
   "metadata": {},
   "outputs": [],
   "source": [
    "import pickle\n",
    "with open('salaries_prediction_model', 'wb') as file:\n",
    "    pickle.dump(regression, file)"
   ]
  }
 ],
 "metadata": {
  "kernelspec": {
   "display_name": "ai",
   "language": "python",
   "name": "python3"
  },
  "language_info": {
   "codemirror_mode": {
    "name": "ipython",
    "version": 3
   },
   "file_extension": ".py",
   "mimetype": "text/x-python",
   "name": "python",
   "nbconvert_exporter": "python",
   "pygments_lexer": "ipython3",
   "version": "3.10.13"
  }
 },
 "nbformat": 4,
 "nbformat_minor": 2
}
